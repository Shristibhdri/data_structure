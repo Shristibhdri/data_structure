{
 "cells": [
  {
   "cell_type": "code",
   "execution_count": 1,
   "metadata": {},
   "outputs": [],
   "source": [
    "#create a class named Car, that has constructor method, displayed_info method and destructor and atributes brand model color. \n",
    "\n",
    "class Car:\n",
    "    def __init__(self, brand, model, color) :\n",
    "        self.brand = brand\n",
    "        self.model = model\n",
    "        self.color = color\n",
    "\n",
    "    def display_info(self):\n",
    "        print(f'brand:{self.brand}, model:{self.model}, color:{self.color}')\n",
    "    \n",
    "    def __del__(self):\n",
    "        print(f'the {self.brand} {self.model} {self.color} has been destroyed')"
   ]
  },
  {
   "cell_type": "code",
   "execution_count": 9,
   "metadata": {},
   "outputs": [
    {
     "name": "stdout",
     "output_type": "stream",
     "text": [
      "the toyota corollal grey has been destroyed\n",
      "the byd dolphin white has been destroyed\n"
     ]
    }
   ],
   "source": [
    "#let's create 3 car objects:\n",
    "#toyota corolla grey\n",
    "#byd dolphin red\n",
    "#ford mondeo yellow\n",
    "\n",
    "car1 = Car(\"toyota\", \"corollal\", \"grey\")\n",
    "car2 = Car(\"byd\", \"dolphin\", \"red\")\n",
    "car3 = Car(\"ford\", \"mondeo\", \"yellow\")"
   ]
  },
  {
   "cell_type": "code",
   "execution_count": 11,
   "metadata": {},
   "outputs": [
    {
     "data": {
      "text/plain": [
       "4490204048"
      ]
     },
     "execution_count": 11,
     "metadata": {},
     "output_type": "execute_result"
    }
   ],
   "source": [
    "id(car1)"
   ]
  },
  {
   "cell_type": "code",
   "execution_count": 5,
   "metadata": {},
   "outputs": [
    {
     "name": "stdout",
     "output_type": "stream",
     "text": [
      "the toyota corollal grey has been destroyed\n",
      "the byd dolphin red has been destroyed\n",
      "the ford mondeo yellow has been destroyed\n"
     ]
    }
   ],
   "source": [
    "car1 = Car(\"toyota\", \"corollal\", \"grey\")\n",
    "car2 = Car(\"byd\", \"dolphin\", \"red\")\n",
    "car3 = Car(\"ford\", \"mondeo\", \"yellow\")"
   ]
  },
  {
   "cell_type": "code",
   "execution_count": 13,
   "metadata": {},
   "outputs": [
    {
     "data": {
      "text/plain": [
       "4490247952"
      ]
     },
     "execution_count": 13,
     "metadata": {},
     "output_type": "execute_result"
    }
   ],
   "source": [
    "id(car1)"
   ]
  },
  {
   "cell_type": "code",
   "execution_count": 7,
   "metadata": {},
   "outputs": [
    {
     "name": "stdout",
     "output_type": "stream",
     "text": [
      "brand:byd, model:dolphin, color:white\n"
     ]
    }
   ],
   "source": [
    "#if we want to chamge the color of dolphin to white then:\n",
    "car2.color = \"white\"\n",
    "car2.display_info()"
   ]
  },
  {
   "cell_type": "code",
   "execution_count": 2,
   "metadata": {},
   "outputs": [
    {
     "name": "stdout",
     "output_type": "stream",
     "text": [
      "Manufacturer: Ford, Model: Taunus, Ages: 45\n",
      "Manufacturer: Ford, Model: Mondeo, Ages: 10\n",
      "Manufacturer: Opel, Model: Excort, Ages: 30\n",
      "Manufacturer: Ford, Model: Mondeo, Ages: 9\n"
     ]
    }
   ],
   "source": [
    "class Cars():\n",
    "    def __init__(self, manufacturer, model, ages):\n",
    "        self.manufacturer = manufacturer\n",
    "        self.model = model\n",
    "        self.ages = ages\n",
    "    \n",
    "    def print_info_method(self):\n",
    "        print(f'Manufacturer: {self.manufacturer}, Model: {self.model}, Ages: {self.ages}')\n",
    "\n",
    "car1 = Cars(\"Ford\", \"Taunus\", 45)\n",
    "car2 = Cars(\"Ford\", \"Mondeo\", 10)\n",
    "car3 = Cars(\"Opel\", \"Excort\", 30)\n",
    "\n",
    "\n",
    "x = [car1, car2, car3]\n",
    "\n",
    "for car in x:\n",
    "    car.print_info_method()\n",
    "\n",
    "car2.ages = 9\n",
    "\n",
    "car2.print_info_method()\n"
   ]
  },
  {
   "cell_type": "code",
   "execution_count": 8,
   "metadata": {},
   "outputs": [
    {
     "name": "stdout",
     "output_type": "stream",
     "text": [
      "the ford mondeo yellow has been destroyed\n"
     ]
    }
   ],
   "source": [
    "#if we wanna delete the car3\n",
    "del car3"
   ]
  },
  {
   "cell_type": "code",
   "execution_count": 14,
   "metadata": {},
   "outputs": [],
   "source": [
    "class Car2:\n",
    "    brand = 'Toyota'\n",
    "    model = 'camry'"
   ]
  },
  {
   "cell_type": "code",
   "execution_count": 15,
   "metadata": {},
   "outputs": [
    {
     "name": "stdout",
     "output_type": "stream",
     "text": [
      "Toyota\n"
     ]
    }
   ],
   "source": [
    "print(Car2.brand)"
   ]
  },
  {
   "cell_type": "code",
   "execution_count": 16,
   "metadata": {},
   "outputs": [
    {
     "name": "stdout",
     "output_type": "stream",
     "text": [
      "camry\n"
     ]
    }
   ],
   "source": [
    "print(Car2.model)"
   ]
  },
  {
   "cell_type": "code",
   "execution_count": 17,
   "metadata": {},
   "outputs": [],
   "source": [
    "new_car1 = Car2()"
   ]
  },
  {
   "cell_type": "code",
   "execution_count": 19,
   "metadata": {},
   "outputs": [
    {
     "data": {
      "text/plain": [
       "'Toyota'"
      ]
     },
     "execution_count": 19,
     "metadata": {},
     "output_type": "execute_result"
    }
   ],
   "source": [
    "new_car1.brand"
   ]
  },
  {
   "cell_type": "code",
   "execution_count": 22,
   "metadata": {},
   "outputs": [],
   "source": [
    "Car2.brand = 'Ford'"
   ]
  },
  {
   "cell_type": "code",
   "execution_count": 23,
   "metadata": {},
   "outputs": [
    {
     "data": {
      "text/plain": [
       "'Ford'"
      ]
     },
     "execution_count": 23,
     "metadata": {},
     "output_type": "execute_result"
    }
   ],
   "source": [
    "new_car1.brand"
   ]
  },
  {
   "cell_type": "code",
   "execution_count": null,
   "metadata": {},
   "outputs": [],
   "source": []
  }
 ],
 "metadata": {
  "kernelspec": {
   "display_name": "Python 3",
   "language": "python",
   "name": "python3"
  },
  "language_info": {
   "codemirror_mode": {
    "name": "ipython",
    "version": 3
   },
   "file_extension": ".py",
   "mimetype": "text/x-python",
   "name": "python",
   "nbconvert_exporter": "python",
   "pygments_lexer": "ipython3",
   "version": "3.11.5"
  }
 },
 "nbformat": 4,
 "nbformat_minor": 2
}
