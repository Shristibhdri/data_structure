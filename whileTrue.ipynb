{
 "cells": [
  {
   "cell_type": "code",
   "execution_count": null,
   "id": "3b085809-c3bd-425b-a5b3-07bbf1bf1291",
   "metadata": {},
   "outputs": [],
   "source": [
    "while True:\n",
    "    while True:\n",
    "        break\n",
    "    print(\"forever\")\n",
    "\n",
    "#it will never end\n",
    "\n",
    "\n",
    "while True:\n",
    "    while True:\n",
    "        break\n",
    "    print(\"forever\")\n",
    "    break \n",
    "\n",
    "#this will actually works"
   ]
  },
  {
   "cell_type": "code",
   "execution_count": 5,
   "id": "697730f9-2c6e-45f7-a4a7-84494d37b858",
   "metadata": {},
   "outputs": [
    {
     "name": "stdout",
     "output_type": "stream",
     "text": [
      "print again\n",
      "print again\n",
      "print again\n",
      "print again\n",
      "print again\n",
      "we ended\n"
     ]
    }
   ],
   "source": [
    "counter2=0\n",
    "while counter2 <5:\n",
    "    counter2 = counter2 +1\n",
    "    print(\"print again\")\n",
    "else:\n",
    "    print(\"we ended\")"
   ]
  },
  {
   "cell_type": "code",
   "execution_count": 7,
   "id": "9e1ff261-3da6-44f4-af82-8b352fcaaa1e",
   "metadata": {},
   "outputs": [
    {
     "name": "stdout",
     "output_type": "stream",
     "text": [
      " not forever anymore\n",
      " not forever anymore\n",
      " not forever anymore\n",
      " not forever anymore\n",
      " not forever anymore\n",
      " not forever anymore\n"
     ]
    }
   ],
   "source": [
    "counter2= 0\n",
    "while True:\n",
    "    counter2 = counter2 +1\n",
    "    print(\" not forever anymore\")\n",
    "    if counter2 > 5:\n",
    "        break\n",
    "else: \n",
    "    print(\"we ended\")\n",
    "   "
   ]
  },
  {
   "cell_type": "code",
   "execution_count": null,
   "id": "8dee7f32-0364-4bc9-8b0c-2d5e759919a6",
   "metadata": {},
   "outputs": [],
   "source": []
  }
 ],
 "metadata": {
  "kernelspec": {
   "display_name": "Python 3 (ipykernel)",
   "language": "python",
   "name": "python3"
  },
  "language_info": {
   "codemirror_mode": {
    "name": "ipython",
    "version": 3
   },
   "file_extension": ".py",
   "mimetype": "text/x-python",
   "name": "python",
   "nbconvert_exporter": "python",
   "pygments_lexer": "ipython3",
   "version": "3.11.5"
  }
 },
 "nbformat": 4,
 "nbformat_minor": 5
}
