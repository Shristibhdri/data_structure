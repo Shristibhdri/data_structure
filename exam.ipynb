{
 "cells": [
  {
   "cell_type": "code",
   "execution_count": 35,
   "metadata": {},
   "outputs": [],
   "source": [
    "def ask_user():\n",
    "    count=[]\n",
    "    for a in range(5):\n",
    "        ans = input(\"Yes or No:\")\n",
    "        count.append(ans)\n",
    "    print(count)"
   ]
  },
  {
   "cell_type": "code",
   "execution_count": 4,
   "metadata": {},
   "outputs": [],
   "source": [
    "def even_or_odd():\n",
    "    number = input(\"Inout a number:\")\n",
    "    if number %2 == 0:\n",
    "        print(f\"{number} is even\")\n",
    "    else:\n",
    "        print(f\"{number} is odd\")"
   ]
  },
  {
   "cell_type": "code",
   "execution_count": 6,
   "metadata": {},
   "outputs": [
    {
     "name": "stdout",
     "output_type": "stream",
     "text": [
      "hi\n",
      "4\n",
      "['yes', 'no', 'yes', 'no', 'yes', 'no', 'no']\n"
     ]
    }
   ],
   "source": [
    "def user_input():\n",
    "    my_list=[\"yes\",\"no\",\"yes\",\"no\",\"yes\",\"no\",\"no\"]\n",
    "    something = input(\"Say something here !:\")\n",
    "    number = int(input(\"Enter a number: \"))\n",
    "    print(something)\n",
    "    print(number)\n",
    "    print(my_list)\n",
    "user_input()"
   ]
  },
  {
   "cell_type": "code",
   "execution_count": 9,
   "metadata": {},
   "outputs": [],
   "source": [
    "def greater(num_1,num_2):\n",
    "    return num_1>= num_2\n",
    "    "
   ]
  },
  {
   "cell_type": "code",
   "execution_count": 14,
   "metadata": {},
   "outputs": [],
   "source": [
    "text=\"Welcome\"\n",
    "def reverse(text):\n",
    "    return text[::-1]\n"
   ]
  },
  {
   "cell_type": "code",
   "execution_count": 15,
   "metadata": {},
   "outputs": [
    {
     "data": {
      "text/plain": [
       "(0.5, 0, 4)"
      ]
     },
     "execution_count": 15,
     "metadata": {},
     "output_type": "execute_result"
    }
   ],
   "source": [
    "def divider(number1,number2):\n",
    "    division=number1/number2\n",
    "    floor_division=number1//number2\n",
    "    modulo=number1%number2\n",
    "    return(division,floor_division,modulo)\n",
    "divider(4,8)\n"
   ]
  },
  {
   "cell_type": "code",
   "execution_count": 17,
   "metadata": {},
   "outputs": [],
   "source": [
    "import copy\n",
    "next_weeks_lotterys_winnig_numbers=[5,10,6,9,3,1]\n",
    "wrong_number_for_next_weeks_lottery= copy.copy(next_weeks_lotterys_winnig_numbers)\n",
    "wrong_number_for_next_weeks_lottery[0]=3\n"
   ]
  },
  {
   "cell_type": "code",
   "execution_count": 18,
   "metadata": {},
   "outputs": [],
   "source": [
    "def tuples2d_to_2dlists(tuple_of_tuples):\n",
    "    list_of_lists=[ list(inner_tuple)for inner_tuple in tuple_of_tuples]\n",
    "    return list_of_lists\n",
    "tuple_input = ((1,2,3),(4,5,6),(7,8,9))\n",
    "result = tuples2d_to_2dlists(tuple_input)"
   ]
  },
  {
   "cell_type": "code",
   "execution_count": 19,
   "metadata": {},
   "outputs": [],
   "source": [
    "def tuplenator(list_num):\n",
    "    length= len(list_num)\n",
    "    sum_num= sum(list_num)\n",
    "    result_tuple = (length,sum_num)\n",
    "    result_tuple += tuple(list_num)\n",
    "    return result_tuple"
   ]
  },
  {
   "cell_type": "code",
   "execution_count": 21,
   "metadata": {},
   "outputs": [],
   "source": [
    "def complex_to_list(complex_tuple):\n",
    "    return[[complex_num.real, complex_num.imag,complex_num]for complex_num in complex_tuple]"
   ]
  },
  {
   "cell_type": "code",
   "execution_count": 22,
   "metadata": {},
   "outputs": [],
   "source": [
    "def  coefficients_to_complex(complex_real,complex_imag):\n",
    "    complex_num = []\n",
    "    for real, imag in zip(complex_real,complex_imag):\n",
    "        complex_num = complex(real,imag)\n",
    "        complex_num.append(complex_num)\n",
    "    return tuple(complex_num)"
   ]
  },
  {
   "cell_type": "code",
   "execution_count": 23,
   "metadata": {},
   "outputs": [],
   "source": [
    "ford = {\n",
    "    \"model\":\"taunus\",\n",
    "    \"engine\": 1.5,\n",
    "    \"weight\":1000,\n",
    "    \"top_speed\": 180\n",
    "}\n",
    "\n",
    "toyota={\n",
    "    \"model\":\"corolla\",\n",
    "    \"engine\":1.2,\n",
    "    \"weight\":800,\n",
    "    \"top_speed\":140\n",
    "}\n",
    "\n",
    "mazda={\n",
    "    \"model\":\"rx3\",\n",
    "    \"engine\":1.3,\n",
    "    \"weight\":900,\n",
    "    \"top_speed\":220\n",
    "}\n",
    "\n",
    "cars ={\n",
    "    \"ford\": ford,\n",
    "    \"toyota\":toyota,\n",
    "    \"mazda\":mazda\n",
    "}"
   ]
  },
  {
   "cell_type": "code",
   "execution_count": 24,
   "metadata": {},
   "outputs": [],
   "source": [
    "def dictator(key,value):\n",
    "    return dict(zip(key,value))"
   ]
  },
  {
   "cell_type": "code",
   "execution_count": 26,
   "metadata": {},
   "outputs": [],
   "source": [
    "def dictator(key,value):\n",
    "    result = {}\n",
    "    for a in range(len(key)):\n",
    "        if a < len(value):\n",
    "            result[key[a]] = value[a]\n",
    "        else:\n",
    "            result[key[a]] = None\n",
    "    return result"
   ]
  },
  {
   "cell_type": "code",
   "execution_count": 28,
   "metadata": {},
   "outputs": [],
   "source": [
    "import numpy as np\n",
    "np_num = np.array([1],dtype=np.uint16)"
   ]
  },
  {
   "cell_type": "code",
   "execution_count": 30,
   "metadata": {},
   "outputs": [],
   "source": [
    "def dict_nester(list_of_dicts):\n",
    "    result = {}\n",
    "    for a, b in enumerate(list_of_dicts):\n",
    "        result[a]=b\n",
    "    return result"
   ]
  },
  {
   "cell_type": "code",
   "execution_count": 31,
   "metadata": {},
   "outputs": [],
   "source": [
    "base2 = \"1111\"\n",
    "base10 = int(base2,2)"
   ]
  },
  {
   "cell_type": "code",
   "execution_count": 32,
   "metadata": {},
   "outputs": [
    {
     "name": "stdout",
     "output_type": "stream",
     "text": [
      "{'AI': 'Artificial Intelligence', 'EENGR': 'Electrical Engineer', 'CS': 'Computer Science'}\n"
     ]
    }
   ],
   "source": [
    "abbreviation = ['AI', 'EENGR', 'CS'] \n",
    "values = ['Artificial Intelligence','Electrical Engineer','Computer Science']\n",
    "result = dict(zip(abbreviation,values))\n",
    "print(result)"
   ]
  },
  {
   "cell_type": "code",
   "execution_count": 33,
   "metadata": {},
   "outputs": [
    {
     "name": "stdout",
     "output_type": "stream",
     "text": [
      "{'a': 1, 'b': 2, 'c': 3, 'd': 4, 'e': 5}\n"
     ]
    }
   ],
   "source": [
    "my_dict = { \"a\": 1,\"b\": 2, \"c\": 3,\"d\":4}\n",
    "my_dict.update({'e':5})\n",
    "print(my_dict)"
   ]
  },
  {
   "cell_type": "code",
   "execution_count": 34,
   "metadata": {},
   "outputs": [],
   "source": [
    "def hexer(hex_str):\n",
    "    try:\n",
    "        base10num = int(hex_str,16)\n",
    "        return base10num\n",
    "    except ValueError:\n",
    "        print(\"not a valid hexadecimal\")\n",
    "        return 0"
   ]
  },
  {
   "cell_type": "code",
   "execution_count": 35,
   "metadata": {},
   "outputs": [],
   "source": [
    "def multi_baser(numbers):\n",
    "    result = {}\n",
    "    for num in numbers:\n",
    "        result[num] = {\n",
    "            'base10' :num,\n",
    "            'base2': bin(num),\n",
    "            'base16':hex(num)\n",
    "        }\n",
    "    return result"
   ]
  },
  {
   "cell_type": "code",
   "execution_count": 36,
   "metadata": {},
   "outputs": [],
   "source": [
    "def multi_baser(numbers):\n",
    "    result = {}\n",
    "    for num in numbers:\n",
    "        result = {\n",
    "            'base10': num,\n",
    "            'base16':bin(num),\n",
    "            'base10':hex(num)\n",
    "        }\n",
    "    return result"
   ]
  },
  {
   "cell_type": "code",
   "execution_count": 37,
   "metadata": {},
   "outputs": [],
   "source": [
    "def dic_nester(dict1,dit2,dict3):\n",
    "    nested_dict={\n",
    "        1: dict1.copy(),\n",
    "        2: dit2.copy(),\n",
    "        3: dict3.copy()\n",
    "    }\n",
    "    return nested_dict"
   ]
  },
  {
   "cell_type": "code",
   "execution_count": null,
   "metadata": {},
   "outputs": [],
   "source": [
    "with open('textfile.txt', 'r') as file:\n",
    "    result = file.read()\n",
    "    print(result)"
   ]
  },
  {
   "cell_type": "code",
   "execution_count": null,
   "metadata": {},
   "outputs": [],
   "source": [
    "try:\n",
    "    with open('mycoolfile', 'r') as file:\n",
    "        lines= file.readlines()\n",
    "        for index in [0,2,3]:\n",
    "            print(lines[index])\n",
    "except FileNotFoundError:\n",
    "    print(\"does not exit.\")"
   ]
  },
  {
   "cell_type": "code",
   "execution_count": null,
   "metadata": {},
   "outputs": [],
   "source": [
    "try:\n",
    "    with open('mycoolfile.txt', 'r') as file:\n",
    "        result = file.readlines()\n",
    "        for a in [0,2,3]:\n",
    "            print(result[a])\n",
    "except FileNotFoundError:\n",
    "    print(\"does not exit.\")"
   ]
  },
  {
   "cell_type": "code",
   "execution_count": 39,
   "metadata": {},
   "outputs": [],
   "source": [
    "with open('mycoolfile.txt','w') as file:\n",
    "    file.write(\"hihi!\\n\")\n",
    "    file.write(\"I am shristi\\n\")\n",
    "    file.write(\"goodbye\")"
   ]
  },
  {
   "cell_type": "code",
   "execution_count": 40,
   "metadata": {},
   "outputs": [
    {
     "name": "stdout",
     "output_type": "stream",
     "text": [
      "My very first textline in this document!\n"
     ]
    }
   ],
   "source": [
    "with open(\"mycoolfile.txt\",'w')as file:\n",
    "    file.write(\"My very first textline in this document!\")\n",
    "with open(\"mycoolfile.txt\",'r') as file:\n",
    "    content = file.read()\n",
    "    print(content)"
   ]
  },
  {
   "cell_type": "code",
   "execution_count": 41,
   "metadata": {},
   "outputs": [],
   "source": [
    "import os\n",
    "file_path = \"mycoolfile.txt\"\n",
    "if os.path.exists(file_path):\n",
    "    os.remove(file_path)\n",
    "else:\n",
    "    print(f\"The file '{file_path}' does not exist.\")\n"
   ]
  },
  {
   "cell_type": "code",
   "execution_count": null,
   "metadata": {},
   "outputs": [],
   "source": [
    "def file_conbiner(filename1,filename2,filename3):\n",
    "    with open(filename1,'r') as file1:\n",
    "        content1 = file1.read()\n",
    "    with open(filename2,'r') as file2:\n",
    "        content2 = file2.read()\n",
    "    with open(filename3,'r') as file3:\n",
    "        content3 = file3.read()\n",
    "    combined_files= f\"{content1}\\n{content2}\\n{content3}\"\n",
    "\n",
    "    with open('file_combined.txt','w') as file:\n",
    "        file.writelines(combined_files)    #write this in cheatsheet"
   ]
  },
  {
   "cell_type": "code",
   "execution_count": 42,
   "metadata": {},
   "outputs": [],
   "source": [
    "def file_sensorer(filename):\n",
    "    names_to_replace=['JUHANI','TIMO','AAPO','SIMEONI','LAURI','EERO','TUOMAS']\n",
    "\n",
    "    with open(filename,'r') as file:\n",
    "        data = file.read()\n",
    "\n",
    "        for name in names_to_replace:\n",
    "            data = data.replace(name.upper(),'*******')\n",
    "            data = data.replace(name.capitalize(),'*******')\n",
    "    with open('data_sensored.txt','r') as result_file:\n",
    "        result_file.write(data)"
   ]
  },
  {
   "cell_type": "code",
   "execution_count": 5,
   "metadata": {},
   "outputs": [
    {
     "name": "stdout",
     "output_type": "stream",
     "text": [
      "['apple', 'apple', 'banana', 'banana', 'kiwi', 'orange', 'pear']\n"
     ]
    }
   ],
   "source": [
    "fruits = ['orange', 'apple', 'pear', 'banana', 'kiwi', 'apple', 'banana']\n",
    "fruits.count('apple')\n",
    "fruits.index('banana')\n",
    "fruits.index('banana',4)\n",
    "fruits.sort()\n",
    "print(fruits)"
   ]
  },
  {
   "cell_type": "code",
   "execution_count": 34,
   "metadata": {},
   "outputs": [
    {
     "data": {
      "text/plain": [
       "'Eric'"
      ]
     },
     "execution_count": 34,
     "metadata": {},
     "output_type": "execute_result"
    }
   ],
   "source": [
    "\n",
    "from collections import deque\n",
    "\n",
    "queue = deque([\"Eric\", \"John\", \"Michael\"])\n",
    "queue.popleft()\n",
    "\n",
    "#queue.pop()"
   ]
  },
  {
   "cell_type": "code",
   "execution_count": 26,
   "metadata": {},
   "outputs": [
    {
     "name": "stdout",
     "output_type": "stream",
     "text": [
      "[1, 4, 9, 16, 25, 36]\n"
     ]
    }
   ],
   "source": [
    "n=6\n",
    "squares=[]\n",
    "for a in range(1,n+1):\n",
    "    squares.append(a**2)\n",
    "print(squares)\n"
   ]
  },
  {
   "cell_type": "code",
   "execution_count": 28,
   "metadata": {},
   "outputs": [
    {
     "data": {
      "text/plain": [
       "[1, 4, 9, 16, 25, 36]"
      ]
     },
     "execution_count": 28,
     "metadata": {},
     "output_type": "execute_result"
    }
   ],
   "source": [
    "def num_square(n):\n",
    "    squares=[]\n",
    "    for a in range(1,n+1):\n",
    "        squares.append(a**2)\n",
    "    return squares\n",
    "num_square(6)"
   ]
  },
  {
   "cell_type": "code",
   "execution_count": 30,
   "metadata": {},
   "outputs": [
    {
     "name": "stdout",
     "output_type": "stream",
     "text": [
      "[0, 1, 4, 9, 16]\n"
     ]
    }
   ],
   "source": [
    "print([ a**2 for a in range(5)])\n"
   ]
  },
  {
   "cell_type": "code",
   "execution_count": 32,
   "metadata": {},
   "outputs": [
    {
     "name": "stdout",
     "output_type": "stream",
     "text": [
      "[(3, 8), (3, 4), (3, 2), (4, 8), (4, 2), (5, 8), (5, 4), (5, 2)]\n"
     ]
    }
   ],
   "source": [
    "items = []\n",
    "for a in [3,4,5]:\n",
    "    for b in [8,4,2]:\n",
    "        if a != b:\n",
    "            items.append((a,b))\n",
    "print(items)\n"
   ]
  },
  {
   "cell_type": "code",
   "execution_count": 36,
   "metadata": {},
   "outputs": [
    {
     "name": "stdout",
     "output_type": "stream",
     "text": [
      "[(0, 0.0), (1, 0.5), (2, 1.0), (3, 1.5), (4, 2.0)]\n"
     ]
    }
   ],
   "source": [
    "print([(x,x/2) for x in range(5)])"
   ]
  },
  {
   "cell_type": "code",
   "execution_count": 50,
   "metadata": {},
   "outputs": [
    {
     "name": "stdout",
     "output_type": "stream",
     "text": [
      "[[1, 5, 9], [2, 6, 10], [3, 7, 11], [4, 8, 12]]\n"
     ]
    }
   ],
   "source": [
    "matrix = [\n",
    "    [1, 2, 3, 4],\n",
    "    [5, 6, 7, 8],\n",
    "    [9, 10, 11, 12],\n",
    "]\n",
    "\n",
    "\n",
    "transposed = []\n",
    "for a in range(4):\n",
    "    transposed.append([ row[a]for row in matrix])\n",
    "print(transposed)"
   ]
  },
  {
   "cell_type": "code",
   "execution_count": 52,
   "metadata": {},
   "outputs": [
    {
     "data": {
      "text/plain": [
       "[[1, 5, 9], [2, 6, 10], [3, 7, 11], [4, 8, 12]]"
      ]
     },
     "execution_count": 52,
     "metadata": {},
     "output_type": "execute_result"
    }
   ],
   "source": [
    "transposed = []\n",
    "for i in range(4):\n",
    "    # the following 3 lines implement the nested listcomp\n",
    "    transposed_row = []\n",
    "    for row in matrix:\n",
    "        transposed_row.append(row[i])\n",
    "    transposed.append(transposed_row)\n",
    "\n",
    "transposed"
   ]
  },
  {
   "cell_type": "code",
   "execution_count": 58,
   "metadata": {},
   "outputs": [
    {
     "data": {
      "text/plain": [
       "[(1, 5, 9), (2, 6, 10), (3, 7, 11), (4, 8, 12)]"
      ]
     },
     "execution_count": 58,
     "metadata": {},
     "output_type": "execute_result"
    }
   ],
   "source": [
    "list(zip(*matrix))"
   ]
  },
  {
   "cell_type": "code",
   "execution_count": 65,
   "metadata": {},
   "outputs": [
    {
     "name": "stdout",
     "output_type": "stream",
     "text": [
      "[1, 66.25, 5]\n",
      "[]\n"
     ]
    }
   ],
   "source": [
    "a = [ 1, 66.25, 333, 333, 1234.5, 5]\n",
    "del a[2:5]\n",
    "print(a)\n",
    "del a[:]\n",
    "print(a)"
   ]
  },
  {
   "cell_type": "code",
   "execution_count": 73,
   "metadata": {},
   "outputs": [
    {
     "data": {
      "text/plain": [
       "(12345, 54321)"
      ]
     },
     "execution_count": 73,
     "metadata": {},
     "output_type": "execute_result"
    }
   ],
   "source": [
    "t = 12345, 54321, 'hello!'\n",
    "t[0:2]\n"
   ]
  },
  {
   "cell_type": "code",
   "execution_count": 75,
   "metadata": {},
   "outputs": [
    {
     "data": {
      "text/plain": [
       "5"
      ]
     },
     "execution_count": 75,
     "metadata": {},
     "output_type": "execute_result"
    }
   ],
   "source": [
    "empty =()\n",
    "string = 'hello'\n",
    "len(string)"
   ]
  },
  {
   "cell_type": "code",
   "execution_count": 77,
   "metadata": {},
   "outputs": [
    {
     "name": "stdout",
     "output_type": "stream",
     "text": [
      "{'apple', 'orange', 'pear', 'banana'}\n"
     ]
    },
    {
     "data": {
      "text/plain": [
       "True"
      ]
     },
     "execution_count": 77,
     "metadata": {},
     "output_type": "execute_result"
    }
   ],
   "source": [
    "basket = {'apple', 'orange', 'apple', 'pear', 'orange', 'banana'}\n",
    "print(basket)\n",
    "'orange' in basket"
   ]
  },
  {
   "cell_type": "code",
   "execution_count": 78,
   "metadata": {},
   "outputs": [
    {
     "name": "stdout",
     "output_type": "stream",
     "text": [
      "{'n', 'u', 'm', 's', 'a'}\n"
     ]
    }
   ],
   "source": [
    "a = 'sumann'\n",
    "print(set(a))"
   ]
  },
  {
   "cell_type": "code",
   "execution_count": 82,
   "metadata": {},
   "outputs": [
    {
     "data": {
      "text/plain": [
       "{'s'}"
      ]
     },
     "execution_count": 82,
     "metadata": {},
     "output_type": "execute_result"
    }
   ],
   "source": [
    "a = set('suman')\n",
    "b = set('shristi')\n",
    "a&b"
   ]
  },
  {
   "cell_type": "code",
   "execution_count": 91,
   "metadata": {},
   "outputs": [
    {
     "name": "stdout",
     "output_type": "stream",
     "text": [
      "{'jack': 4098, 'sape': 4139, 'suman': 3729}\n"
     ]
    }
   ],
   "source": [
    "tel = {'jack': 4098, 'sape': 4139}\n",
    "tel['suman'] = 3729\n",
    "print(tel)"
   ]
  },
  {
   "cell_type": "code",
   "execution_count": 100,
   "metadata": {},
   "outputs": [
    {
     "name": "stdout",
     "output_type": "stream",
     "text": [
      "{'jack': 4098, 'suman': 3729}\n"
     ]
    },
    {
     "data": {
      "text/plain": [
       "['jack', 'suman']"
      ]
     },
     "execution_count": 100,
     "metadata": {},
     "output_type": "execute_result"
    }
   ],
   "source": [
    "tel = {'jack': 4098, 'sape': 4139, 'suman': 3729}\n",
    "del tel['sape']\n",
    "print(tel)\n",
    "list(tel)\n",
    "sorted(tel) "
   ]
  },
  {
   "cell_type": "code",
   "execution_count": 101,
   "metadata": {},
   "outputs": [
    {
     "data": {
      "text/plain": [
       "{'shristi': 20, 'suman': 23, 'shrisu': 10}"
      ]
     },
     "execution_count": 101,
     "metadata": {},
     "output_type": "execute_result"
    }
   ],
   "source": [
    "dict([('shristi', 20), ('suman', 23),('shrisu', 10)])"
   ]
  },
  {
   "cell_type": "code",
   "execution_count": 102,
   "metadata": {},
   "outputs": [
    {
     "data": {
      "text/plain": [
       "{'shristi': 20, 'suman': 23, 'shrisu': 10}"
      ]
     },
     "execution_count": 102,
     "metadata": {},
     "output_type": "execute_result"
    }
   ],
   "source": [
    "dict(shristi=20,suman=23,shrisu=10)"
   ]
  },
  {
   "cell_type": "code",
   "execution_count": 105,
   "metadata": {},
   "outputs": [
    {
     "name": "stdout",
     "output_type": "stream",
     "text": [
      "gallahad the pure\n",
      "robin the brave\n"
     ]
    }
   ],
   "source": [
    "knights = {'gallahad': 'the pure', 'robin': 'the brave'}\n",
    "for keys,values in knights.items():\n",
    "    print(keys,values)"
   ]
  },
  {
   "cell_type": "code",
   "execution_count": 106,
   "metadata": {},
   "outputs": [
    {
     "name": "stdout",
     "output_type": "stream",
     "text": [
      "0 a\n",
      "1 b\n",
      "2 c\n"
     ]
    }
   ],
   "source": [
    "for a,b in enumerate(['a','b','c']):\n",
    "    print(a,b)"
   ]
  },
  {
   "cell_type": "code",
   "execution_count": 122,
   "metadata": {},
   "outputs": [
    {
     "name": "stdout",
     "output_type": "stream",
     "text": [
      "gallahad\n",
      "robin\n"
     ]
    }
   ],
   "source": [
    "knights = {'gallahad': 'the pure', 'robin': 'the brave'}\n",
    "for v in knights.keys():  \n",
    "    print(v)"
   ]
  },
  {
   "cell_type": "code",
   "execution_count": 123,
   "metadata": {},
   "outputs": [
    {
     "name": "stdout",
     "output_type": "stream",
     "text": [
      "What is your name? It is lancelot\n",
      "What is your quest? It is the holy grail\n",
      "What is your favorite color? It is blue\n"
     ]
    }
   ],
   "source": [
    "questions = ['name', 'quest', 'favorite color']\n",
    "answers = ['lancelot', 'the holy grail', 'blue']\n",
    "for q,a in zip(questions,answers):\n",
    "    print('What is your {0}? It is {1}'.format(q,a))"
   ]
  },
  {
   "cell_type": "code",
   "execution_count": 126,
   "metadata": {},
   "outputs": [
    {
     "name": "stdout",
     "output_type": "stream",
     "text": [
      "What is your name? It is lancelot.\n",
      "What is your quest? It is the holy grail.\n",
      "What is your favorite color? It is blue.\n"
     ]
    }
   ],
   "source": [
    "questions = ['name', 'quest', 'favorite color']\n",
    "answers = ['lancelot', 'the holy grail', 'blue']\n",
    "for q,a in zip(questions,answers):\n",
    "    print('What is your {0}? It is {1}.'.format(q,a))"
   ]
  },
  {
   "cell_type": "code",
   "execution_count": 132,
   "metadata": {},
   "outputs": [
    {
     "name": "stdout",
     "output_type": "stream",
     "text": [
      "9\n",
      "7\n",
      "5\n",
      "3\n",
      "1\n"
     ]
    }
   ],
   "source": [
    "for i in reversed(range(1,10,2)):\n",
    "    print(i)"
   ]
  },
  {
   "cell_type": "code",
   "execution_count": 133,
   "metadata": {},
   "outputs": [
    {
     "name": "stdout",
     "output_type": "stream",
     "text": [
      "apple\n",
      "apple\n",
      "banana\n",
      "orange\n",
      "orange\n",
      "pear\n"
     ]
    }
   ],
   "source": [
    "basket = ['apple', 'orange', 'apple', 'pear', 'orange', 'banana']\n",
    "for a in sorted(basket):\n",
    "    print(a)"
   ]
  },
  {
   "cell_type": "code",
   "execution_count": 28,
   "metadata": {},
   "outputs": [
    {
     "name": "stdout",
     "output_type": "stream",
     "text": [
      "apple\n",
      "banana\n",
      "orange\n",
      "pear\n"
     ]
    }
   ],
   "source": [
    "basket = ['apple', 'orange', 'apple', 'pear', 'orange', 'banana']\n",
    "for a in sorted(set(basket)):\n",
    "    print(a)"
   ]
  },
  {
   "cell_type": "code",
   "execution_count": 138,
   "metadata": {},
   "outputs": [
    {
     "name": "stdout",
     "output_type": "stream",
     "text": [
      "[56.2, 51.7, 55.3, 52.5, 47.8]\n"
     ]
    }
   ],
   "source": [
    "# in cheat sheet\n",
    "import math\n",
    "raw_data = [56.2, float('NaN'), 51.7, 55.3, 52.5, float('NaN'), 47.8]  \n",
    "filtered_data=[]\n",
    "for a in raw_data:\n",
    "    if not math.isnan(a):\n",
    "        filtered_data.append(a)\n",
    "print(filtered_data)"
   ]
  },
  {
   "cell_type": "code",
   "execution_count": 147,
   "metadata": {},
   "outputs": [
    {
     "data": {
      "text/plain": [
       "2"
      ]
     },
     "execution_count": 147,
     "metadata": {},
     "output_type": "execute_result"
    }
   ],
   "source": [
    "string1, string2, string3 = 0, None, 2\n",
    "non_null = string1 or string2 or string3\n",
    "non_null"
   ]
  },
  {
   "cell_type": "code",
   "execution_count": 153,
   "metadata": {},
   "outputs": [],
   "source": [
    "def longest_string(string):\n",
    "    long_string = None\n",
    "    for strings in string:\n",
    "        if len(long_string)<len(strings):\n",
    "            long_string = strings\n",
    "    return long_string\n"
   ]
  },
  {
   "cell_type": "code",
   "execution_count": 154,
   "metadata": {},
   "outputs": [
    {
     "ename": "SyntaxError",
     "evalue": "Missing parentheses in call to 'print'. Did you mean print(...)? (169826095.py, line 4)",
     "output_type": "error",
     "traceback": [
      "\u001b[0;36m  Cell \u001b[0;32mIn[154], line 4\u001b[0;36m\u001b[0m\n\u001b[0;31m    print a&a\u001b[0m\n\u001b[0m    ^\u001b[0m\n\u001b[0;31mSyntaxError\u001b[0m\u001b[0;31m:\u001b[0m Missing parentheses in call to 'print'. Did you mean print(...)?\n"
     ]
    }
   ],
   "source": [
    "def most_common_letter(string):\n",
    "    string = max(string)      "
   ]
  },
  {
   "cell_type": "code",
   "execution_count": 155,
   "metadata": {},
   "outputs": [],
   "source": [
    "def min_max_sum(*integers):\n",
    "    minimum = min(integers)\n",
    "    maximum = max(integers)\n",
    "    sums = sum(integers)\n",
    "    return minimum,maximum,sums"
   ]
  },
  {
   "cell_type": "code",
   "execution_count": 156,
   "metadata": {},
   "outputs": [],
   "source": [
    "def zip_lists(list1,list2):\n",
    "    return zip(list1,list2)\n"
   ]
  },
  {
   "cell_type": "code",
   "execution_count": 2,
   "metadata": {},
   "outputs": [
    {
     "ename": "TypeError",
     "evalue": "'function' object is not subscriptable",
     "output_type": "error",
     "traceback": [
      "\u001b[0;31m---------------------------------------------------------------------------\u001b[0m",
      "\u001b[0;31mTypeError\u001b[0m                                 Traceback (most recent call last)",
      "Cell \u001b[0;32mIn[2], line 5\u001b[0m\n\u001b[1;32m      3\u001b[0m         \u001b[38;5;28;01mif\u001b[39;00m a\u001b[38;5;241m%\u001b[39m\u001b[38;5;241m2\u001b[39m \u001b[38;5;241m==\u001b[39m \u001b[38;5;241m0\u001b[39m:\n\u001b[1;32m      4\u001b[0m             \u001b[38;5;28;01myield\u001b[39;00m a\n\u001b[0;32m----> 5\u001b[0m \u001b[43meven_numbers\u001b[49m\u001b[43m[\u001b[49m\u001b[38;5;241;43m4\u001b[39;49m\u001b[43m]\u001b[49m\n",
      "\u001b[0;31mTypeError\u001b[0m: 'function' object is not subscriptable"
     ]
    }
   ],
   "source": [
    "def even_numbers(lists):\n",
    "    for a in lists:\n",
    "        if a%2 == 0:\n",
    "            yield a\n",
    "even_numbers[4]"
   ]
  },
  {
   "cell_type": "markdown",
   "metadata": {},
   "source": [
    "Write a function called square_values that takes a dictionary of integer values as input and returns a new dictionary with the same keys but with the corresponding values squared."
   ]
  },
  {
   "cell_type": "code",
   "execution_count": 170,
   "metadata": {},
   "outputs": [],
   "source": [
    "def square_values(int_values):\n",
    "    squares_values = {}\n",
    "    for keys,values in int_values.items():\n",
    "        squares_values[keys] = values**2\n",
    "    return squares_values\n"
   ]
  },
  {
   "cell_type": "markdown",
   "metadata": {},
   "source": [
    "Write a generator function called fibonacci that yields the Fibonacci sequence starting from 0 and 1."
   ]
  },
  {
   "cell_type": "code",
   "execution_count": 171,
   "metadata": {},
   "outputs": [],
   "source": [
    "def fibonacci():\n",
    "    a = 0\n",
    "    b = 1\n",
    "    while True:\n",
    "        yield a\n",
    "        a,b = b,a+b"
   ]
  },
  {
   "cell_type": "markdown",
   "metadata": {},
   "source": [
    "Write a function called merge_dicts that takes any number of dictionaries as input and returns a new dictionary that merges all the input dictionaries."
   ]
  },
  {
   "cell_type": "code",
   "execution_count": 179,
   "metadata": {},
   "outputs": [
    {
     "data": {
      "text/plain": [
       "{'a': 1, 'b': 2, 'c': 3}"
      ]
     },
     "execution_count": 179,
     "metadata": {},
     "output_type": "execute_result"
    }
   ],
   "source": [
    "def merge_dict(*dicts):\n",
    "\n",
    "    merged_dict = {}\n",
    "\n",
    "    for dict in dicts:\n",
    "        merged_dict.update(dict) \n",
    "    return merged_dict\n",
    "\n",
    "  \n",
    "dict1 ={'a':1} \n",
    "dict2 ={'b':2} \n",
    "dict3 = {'c': 3}\n",
    "merge_dict(dict1,dict2, dict3)"
   ]
  },
  {
   "cell_type": "code",
   "execution_count": 180,
   "metadata": {},
   "outputs": [],
   "source": [
    "def transposed(matrix):\n",
    "    transpose = []\n",
    "    for a in range(3):\n",
    "        transpose.append([row[a] for row in matrix])\n",
    "#in cheat sheet (to change only the 3 row and columns.)"
   ]
  },
  {
   "cell_type": "code",
   "execution_count": 181,
   "metadata": {},
   "outputs": [],
   "source": [
    "#in cheat sheet\n",
    "def transpose(matrix):\n",
    "    transposed = []\n",
    "    for a in range(len(matrix[0])):\n",
    "        transposed.append([row[a] for row in matrix])\n",
    "    return transposed"
   ]
  },
  {
   "cell_type": "code",
   "execution_count": 4,
   "metadata": {},
   "outputs": [],
   "source": [
    "class BankAccount():\n",
    "    def __init__(self, initial_balance):\n",
    "        self.initial_balance = initial_balance\n",
    "    def deposit(self, amount):\n",
    "        self.initial_balance += amount\n",
    "    def withdraw(self, amount):\n",
    "        if self.initial_balance >= amount:\n",
    "            self.initial_balance -= amount\n",
    "        else:\n",
    "            print(\"Insufficient funds\")\n",
    "    def get_balance(self):\n",
    "        return self.initial_balance"
   ]
  },
  {
   "cell_type": "markdown",
   "metadata": {},
   "source": [
    "Write a function named calculate_factorial that takes an integer and returns the factorial of that number. The factorial of a number n is the product of all positive integers less than or equal to n. The factorial of 0 is 1. For example, the factorial of 5 (5!) is 5 * 4 * 3 * 2 * 1 = 120."
   ]
  },
  {
   "cell_type": "code",
   "execution_count": 187,
   "metadata": {},
   "outputs": [
    {
     "data": {
      "text/plain": [
       "6"
      ]
     },
     "execution_count": 187,
     "metadata": {},
     "output_type": "execute_result"
    }
   ],
   "source": [
    "def calculate_factorial(n):\n",
    "    factorial = 1\n",
    "    for a in range(1,n+1):\n",
    "        factorial = a * factorial\n",
    "    return factorial \n",
    "\n",
    "calculate_factorial(3) "
   ]
  },
  {
   "cell_type": "markdown",
   "metadata": {},
   "source": [
    "Write a function named is_prime that takes an integer greater than 1 and returns True if the number is a prime number, else returns False. A prime number is a number that has no positive divisors other than 1 and itself. For example, 2, 3, 5, and 7 are prime numbers"
   ]
  },
  {
   "cell_type": "code",
   "execution_count": 26,
   "metadata": {},
   "outputs": [
    {
     "data": {
      "text/plain": [
       "True"
      ]
     },
     "execution_count": 26,
     "metadata": {},
     "output_type": "execute_result"
    }
   ],
   "source": [
    "def check_prime(n):\n",
    "    is_prime = True\n",
    "    for a in range(2,n):\n",
    "        if n % a == 0:\n",
    "            is_prime = False\n",
    "    return is_prime\n",
    "check_prime(1)"
   ]
  },
  {
   "cell_type": "markdown",
   "metadata": {},
   "source": [
    "Given a list of n-1 integers in the range from 1 to n, write a function called find_missing_number, that takes in given list as argument,  then finds the missing number in the list, and returns it."
   ]
  },
  {
   "cell_type": "code",
   "execution_count": 205,
   "metadata": {},
   "outputs": [
    {
     "data": {
      "text/plain": [
       "[2, 5, 7]"
      ]
     },
     "execution_count": 205,
     "metadata": {},
     "output_type": "execute_result"
    }
   ],
   "source": [
    "def find_missing_number(lists):\n",
    "    max_number = max(lists)\n",
    "    missing_numbers = []\n",
    "    for a in range(1,max_number):\n",
    "        if a not in lists:\n",
    "            missing_numbers.append(a)\n",
    "    return missing_numbers\n",
    "\n",
    "\n",
    "find_missing_number([1, 3, 4, 6,8])"
   ]
  },
  {
   "cell_type": "markdown",
   "metadata": {},
   "source": [
    "Write a function called sum_of_squares that takes an integer n and returns the sum of the squares of all positive integers less than or equal to n, if given values is not integer, return None."
   ]
  },
  {
   "cell_type": "code",
   "execution_count": 217,
   "metadata": {},
   "outputs": [
    {
     "data": {
      "text/plain": [
       "14"
      ]
     },
     "execution_count": 217,
     "metadata": {},
     "output_type": "execute_result"
    }
   ],
   "source": [
    "def sum_of_squares(n):\n",
    "    if not isinstance(n,int):\n",
    "        return None\n",
    "    \n",
    "    squares = 0\n",
    "    for a in range (1,n+1):\n",
    "        squares = (a**2) + squares\n",
    "    return squares\n",
    "sum_of_squares(3)"
   ]
  },
  {
   "cell_type": "markdown",
   "metadata": {},
   "source": [
    "Implement a class Queue with methods enqueue (adds an item), dequeue (removes and returns the front item), and is_empty (returns True if the queue is empty)."
   ]
  },
  {
   "cell_type": "code",
   "execution_count": 1,
   "metadata": {},
   "outputs": [],
   "source": [
    "class Queue():\n",
    "    def __init__(self):\n",
    "        self.items=[]\n",
    "    def enqueue(self,item):\n",
    "        self.items.append(item)\n",
    "    def dequeue(self):\n",
    "        return self.items.pop(0)\n",
    "    def is_empty(self):\n",
    "        if len(self.items) == 0:\n",
    "            return True\n",
    "        else:\n",
    "            return False\n",
    "    "
   ]
  },
  {
   "cell_type": "markdown",
   "metadata": {},
   "source": [
    "Write a function parse_csv that takes CSV file name, reads it, and returns a list of dictionaries, where each dictionary represents a row with column headers as keys."
   ]
  },
  {
   "cell_type": "code",
   "execution_count": 2,
   "metadata": {},
   "outputs": [],
   "source": [
    "def parse_csv(filename):\n",
    "    with open(filename,'r') as file:\n",
    "        for line in file:\n",
    "            for keys,values in line:\n",
    "                dict[keys] == values\n"
   ]
  },
  {
   "cell_type": "markdown",
   "metadata": {},
   "source": [
    "Defines a function most_common_letter that takes a string as input, and returns the most common letter in the string."
   ]
  },
  {
   "cell_type": "code",
   "execution_count": null,
   "metadata": {},
   "outputs": [],
   "source": [
    "#in cheat sheet\n",
    "def most_common_letter(string):\n",
    "    return max(string.lower(), key=string.lower().count)"
   ]
  },
  {
   "cell_type": "markdown",
   "metadata": {},
   "source": [
    "Define a function group_by_length that takes a list of strings as input, and returns a dictionary where the keys are the lengths of the strings, and the values are lists of strings that have that length."
   ]
  },
  {
   "cell_type": "code",
   "execution_count": null,
   "metadata": {},
   "outputs": [],
   "source": [
    "def group_by_length(string):\n",
    "    "
   ]
  },
  {
   "cell_type": "markdown",
   "metadata": {},
   "source": [
    "Write a function named calculate_factorial that takes an integer and returns the factorial of that number. The factorial of a number n is the product of all positive integers less\n",
    "than or equal to n. The factorial of 0 is 1. For example, the factorial of 5 (5!) is 5 * 4 * 3 * 2 * 1 = 120."
   ]
  },
  {
   "cell_type": "code",
   "execution_count": 6,
   "metadata": {},
   "outputs": [
    {
     "data": {
      "text/plain": [
       "120"
      ]
     },
     "execution_count": 6,
     "metadata": {},
     "output_type": "execute_result"
    }
   ],
   "source": [
    "def calculate_factorial(n):\n",
    "    total = 1\n",
    "    for a in range(1, n+1):\n",
    "        total = a * total\n",
    "    return total\n",
    "\n",
    "calculate_factorial(5)"
   ]
  },
  {
   "cell_type": "markdown",
   "metadata": {},
   "source": [
    "Write a function named is_prime that takes an integer greater than 1 and returns True if the number is a prime number, else returns False. A prime number is a number that has no positive divisors other than 1 and itself. For example, 2, 3, 5, and 7 are prime numbers"
   ]
  },
  {
   "cell_type": "code",
   "execution_count": 10,
   "metadata": {},
   "outputs": [
    {
     "data": {
      "text/plain": [
       "True"
      ]
     },
     "execution_count": 10,
     "metadata": {},
     "output_type": "execute_result"
    }
   ],
   "source": [
    "def is_prime(n):\n",
    "    prime = True\n",
    "    for a in range(2,n):\n",
    "        if n%a == 0:\n",
    "            prime = False\n",
    "    return prime\n",
    "is_prime(2)           "
   ]
  },
  {
   "cell_type": "markdown",
   "metadata": {},
   "source": [
    "Given a list of n-1 integers in the range from 1 to n, write a function called find_missing_number, that takes in given list as argument,  then finds the missing number in the list, and returns it."
   ]
  },
  {
   "cell_type": "code",
   "execution_count": 15,
   "metadata": {},
   "outputs": [
    {
     "data": {
      "text/plain": [
       "[2, 5, 7]"
      ]
     },
     "execution_count": 15,
     "metadata": {},
     "output_type": "execute_result"
    }
   ],
   "source": [
    "#in cheat sheet\n",
    "def find_missing_number(lists):\n",
    "    max_num = max(lists)\n",
    "    missing_num =[]\n",
    "    for a in range(1,max_num):\n",
    "        if a not in lists:\n",
    "            missing_num.append(a)\n",
    "    return missing_num\n",
    "\n",
    "find_missing_number([1, 3, 4, 6,8])"
   ]
  },
  {
   "cell_type": "markdown",
   "metadata": {},
   "source": [
    " Write a function called sum_of_squares that takes an integer n and returns the sum of the squares of all positive integers less than or equal to n, if given values is not integer, return None."
   ]
  },
  {
   "cell_type": "code",
   "execution_count": 21,
   "metadata": {},
   "outputs": [
    {
     "data": {
      "text/plain": [
       "15"
      ]
     },
     "execution_count": 21,
     "metadata": {},
     "output_type": "execute_result"
    }
   ],
   "source": [
    "def sum_of_squares(n):\n",
    "    if not isinstance(n, int):\n",
    "        return None\n",
    "    squared_num = 1 \n",
    "    for a in range(1,n+1):\n",
    "        squared_num = (a**2) + squared_num\n",
    "    return squared_num\n",
    "sum_of_squares(3)"
   ]
  },
  {
   "cell_type": "markdown",
   "metadata": {},
   "source": [
    "Write a generator function named infinite_squares that yields the square of each integer, starting from 1, infinitely."
   ]
  },
  {
   "cell_type": "code",
   "execution_count": null,
   "metadata": {},
   "outputs": [],
   "source": [
    "def infinite_squares(base = 1):\n",
    "    while True:\n",
    "        yield(base**2)\n",
    "        base += 1\n",
    "        "
   ]
  },
  {
   "cell_type": "markdown",
   "metadata": {},
   "source": [
    "Implement a class Queue with methods enqueue (adds an item), dequeue (removes and returns the front item), and is_empty (returns True if the queue is empty)."
   ]
  },
  {
   "cell_type": "code",
   "execution_count": null,
   "metadata": {},
   "outputs": [],
   "source": [
    "class Queue():\n",
    "    def __init__(self):\n",
    "        self.items = []\n",
    "    def enqueue(self,item):\n",
    "        self.items.append(item)\n",
    "    def dequeue(self):\n",
    "        return self.items.pop([0])\n",
    "    def is_empty(self):\n",
    "        if len(self.items) == 0:\n",
    "            return True\n",
    "        else:\n",
    "            return False\n",
    "    "
   ]
  },
  {
   "cell_type": "markdown",
   "metadata": {},
   "source": [
    "Write a function parse_csv that takes CSV file name, reads it, and returns a list of dictionaries, where each dictionary represents a row with column headers as keys."
   ]
  },
  {
   "cell_type": "code",
   "execution_count": null,
   "metadata": {},
   "outputs": [],
   "source": [
    "def parse_csv(filename):\n",
    "    with open(filename, 'r') as file:\n",
    "        for files in file:\n",
    "            for keys,values in files:\n",
    "                dict[keys] == values\n",
    "                "
   ]
  }
 ],
 "metadata": {
  "kernelspec": {
   "display_name": "Python 3",
   "language": "python",
   "name": "python3"
  },
  "language_info": {
   "codemirror_mode": {
    "name": "ipython",
    "version": 3
   },
   "file_extension": ".py",
   "mimetype": "text/x-python",
   "name": "python",
   "nbconvert_exporter": "python",
   "pygments_lexer": "ipython3",
   "version": "3.11.5"
  }
 },
 "nbformat": 4,
 "nbformat_minor": 2
}
