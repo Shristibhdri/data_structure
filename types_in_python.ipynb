{
 "cells": [
  {
   "cell_type": "code",
   "execution_count": 1,
   "id": "81300159-a364-440e-9840-b864371cf7a1",
   "metadata": {},
   "outputs": [
    {
     "data": {
      "text/plain": [
       "int"
      ]
     },
     "execution_count": 1,
     "metadata": {},
     "output_type": "execute_result"
    }
   ],
   "source": [
    "type(5)"
   ]
  },
  {
   "cell_type": "code",
   "execution_count": 2,
   "id": "765c4a2a-bc57-4613-8b83-6673f6e9ecd4",
   "metadata": {},
   "outputs": [
    {
     "name": "stdout",
     "output_type": "stream",
     "text": [
      "<class 'list'>\n"
     ]
    }
   ],
   "source": [
    "print(type([5]))"
   ]
  },
  {
   "cell_type": "code",
   "execution_count": 3,
   "id": "84ac3813-f627-4c7a-adeb-560f37020742",
   "metadata": {},
   "outputs": [
    {
     "name": "stdout",
     "output_type": "stream",
     "text": [
      "<class 'int'>\n"
     ]
    }
   ],
   "source": [
    "x = 5\n",
    "print(type(x))"
   ]
  },
  {
   "cell_type": "code",
   "execution_count": 4,
   "id": "769672f4-7edf-46d9-b8ae-87903fa0ec18",
   "metadata": {},
   "outputs": [
    {
     "name": "stdout",
     "output_type": "stream",
     "text": [
      "<class 'float'>\n"
     ]
    }
   ],
   "source": [
    "y = 5.5\n",
    "print(type(y))"
   ]
  },
  {
   "cell_type": "code",
   "execution_count": 7,
   "id": "310d9826-a9c9-4fac-9f29-b53d6eceb057",
   "metadata": {},
   "outputs": [
    {
     "name": "stdout",
     "output_type": "stream",
     "text": [
      "<class 'float'>\n",
      "<class 'float'>\n",
      "<class 'float'>\n",
      "0.0\n"
     ]
    }
   ],
   "source": [
    "x=2.1\n",
    "y=3.1\n",
    "print(type(x))\n",
    "print(type(y))\n",
    "z = x//y\n",
    "print(type(z))\n",
    "print(z)"
   ]
  },
  {
   "cell_type": "code",
   "execution_count": 8,
   "id": "ab028ab2-bdec-4873-9dcc-603803ac8337",
   "metadata": {},
   "outputs": [
    {
     "name": "stdout",
     "output_type": "stream",
     "text": [
      "(3+1j)\n",
      "<class 'complex'>\n"
     ]
    }
   ],
   "source": [
    "x = 3+1j\n",
    "print(x)\n",
    "print(type(x))"
   ]
  },
  {
   "cell_type": "code",
   "execution_count": 9,
   "id": "d75405a0-f28f-47d0-b461-89c1e01abafe",
   "metadata": {},
   "outputs": [
    {
     "name": "stdout",
     "output_type": "stream",
     "text": [
      "<class 'str'>\n",
      "this is text\n"
     ]
    }
   ],
   "source": [
    "x = \"this is text\"\n",
    "print(type(x))\n",
    "print(x)"
   ]
  },
  {
   "cell_type": "code",
   "execution_count": 10,
   "id": "5d6476e0-2f3f-4d5a-adf1-86915c5ec237",
   "metadata": {},
   "outputs": [
    {
     "name": "stdin",
     "output_type": "stream",
     "text": [
      "give a number 4\n"
     ]
    },
    {
     "name": "stdout",
     "output_type": "stream",
     "text": [
      "<class 'str'>\n"
     ]
    }
   ],
   "source": [
    "x = input(\"give a number\")\n",
    "print(type(x))"
   ]
  },
  {
   "cell_type": "code",
   "execution_count": 11,
   "id": "52bb536f-8e2f-49b5-8b53-04bdf29de2e3",
   "metadata": {},
   "outputs": [
    {
     "ename": "SyntaxError",
     "evalue": "f-string: invalid syntax. Perhaps you forgot a comma? (2008032406.py, line 1)",
     "output_type": "error",
     "traceback": [
      "\u001b[0;36m  Cell \u001b[0;32mIn[11], line 1\u001b[0;36m\u001b[0m\n\u001b[0;31m    z = f\" what ever text {variables} text, and {more variables}\"\u001b[0m\n\u001b[0m     ^\u001b[0m\n\u001b[0;31mSyntaxError\u001b[0m\u001b[0;31m:\u001b[0m f-string: invalid syntax. Perhaps you forgot a comma?\n"
     ]
    }
   ],
   "source": [
    "z = f\" what ever text {variables} text, and {more_variables}\""
   ]
  },
  {
   "cell_type": "code",
   "execution_count": 12,
   "id": "42075f92-e9c6-4b5e-85bf-e1f22f5d1c5d",
   "metadata": {},
   "outputs": [
    {
     "name": "stdout",
     "output_type": "stream",
     "text": [
      " what ever text 4 text, and 3.1\n"
     ]
    }
   ],
   "source": [
    "z = f\" what ever text {x} text, and {y}\"\n",
    "print(z)"
   ]
  },
  {
   "cell_type": "code",
   "execution_count": 13,
   "id": "e6975385-d52f-4d84-94b1-0a3b9042922d",
   "metadata": {},
   "outputs": [
    {
     "data": {
      "text/plain": [
       "list"
      ]
     },
     "execution_count": 13,
     "metadata": {},
     "output_type": "execute_result"
    }
   ],
   "source": [
    "x = [1,2,3]\n",
    "type(x)"
   ]
  },
  {
   "cell_type": "code",
   "execution_count": 14,
   "id": "d1b5625e-25c7-4fea-b2e0-1b6481247b3d",
   "metadata": {},
   "outputs": [
    {
     "data": {
      "text/plain": [
       "int"
      ]
     },
     "execution_count": 14,
     "metadata": {},
     "output_type": "execute_result"
    }
   ],
   "source": [
    "type(x[0])"
   ]
  },
  {
   "cell_type": "code",
   "execution_count": 15,
   "id": "3c7eff19-485b-416b-a532-3c39ed650e7f",
   "metadata": {},
   "outputs": [
    {
     "name": "stdout",
     "output_type": "stream",
     "text": [
      "[5, 2, 3]\n"
     ]
    }
   ],
   "source": [
    "x[0] = 5\n",
    "print(x)"
   ]
  },
  {
   "cell_type": "code",
   "execution_count": 24,
   "id": "766db060-71ef-4dc2-bd61-5b8d08974ac8",
   "metadata": {},
   "outputs": [
    {
     "name": "stdout",
     "output_type": "stream",
     "text": [
      "['some text', 'some text', 3]\n"
     ]
    }
   ],
   "source": [
    "x[0] = \"some text\"\n",
    "print(x)"
   ]
  },
  {
   "cell_type": "code",
   "execution_count": 28,
   "id": "79b4576f-b8d7-4046-af07-b31ac9c1d5c8",
   "metadata": {},
   "outputs": [
    {
     "data": {
      "text/plain": [
       "['some text', 'again text', 3]"
      ]
     },
     "execution_count": 28,
     "metadata": {},
     "output_type": "execute_result"
    }
   ],
   "source": [
    "x[1]= \"again text\"\n",
    "x"
   ]
  },
  {
   "cell_type": "code",
   "execution_count": 30,
   "id": "741f370b-1ecb-49e0-8b51-85bcfe49db9d",
   "metadata": {},
   "outputs": [
    {
     "name": "stdout",
     "output_type": "stream",
     "text": [
      "['some text', 'again text', 3, 'text', 2, 'more text']\n"
     ]
    }
   ],
   "source": [
    "y = [\"text\" , 2, \"more text\"]\n",
    "z= x+y\n",
    "print(z)"
   ]
  },
  {
   "cell_type": "code",
   "execution_count": 33,
   "id": "cb774ca1-5f52-4244-8219-18d31874360a",
   "metadata": {},
   "outputs": [
    {
     "name": "stdout",
     "output_type": "stream",
     "text": [
      "<class 'list'>\n"
     ]
    },
    {
     "data": {
      "text/plain": [
       "[['text', 2, 'more text'], 'again text', 3, 'text', 2, 'more text']"
      ]
     },
     "execution_count": 33,
     "metadata": {},
     "output_type": "execute_result"
    }
   ],
   "source": [
    "z[0] = y\n",
    "print(type(z[0]))\n",
    "z"
   ]
  },
  {
   "cell_type": "code",
   "execution_count": 34,
   "id": "f3f44726-4a57-40b7-91b4-6c113d0038bf",
   "metadata": {},
   "outputs": [
    {
     "data": {
      "text/plain": [
       "2"
      ]
     },
     "execution_count": 34,
     "metadata": {},
     "output_type": "execute_result"
    }
   ],
   "source": [
    "z[0][1]"
   ]
  },
  {
   "cell_type": "code",
   "execution_count": null,
   "id": "f7b3e4bc-c26a-486c-9271-dedf85828833",
   "metadata": {},
   "outputs": [],
   "source": [
    "* Mutable vs Immutable?\n"
   ]
  },
  {
   "cell_type": "code",
   "execution_count": 36,
   "id": "714730ca-552e-4e3d-8e94-84dee04f57fd",
   "metadata": {},
   "outputs": [
    {
     "name": "stdout",
     "output_type": "stream",
     "text": [
      "4465684272\n"
     ]
    }
   ],
   "source": [
    "x = 1001\n",
    "print(id(x))"
   ]
  },
  {
   "cell_type": "code",
   "execution_count": 37,
   "id": "8578ed75-7f12-42a2-9161-6b1362bf2376",
   "metadata": {},
   "outputs": [
    {
     "name": "stdout",
     "output_type": "stream",
     "text": [
      "4465684688\n"
     ]
    }
   ],
   "source": [
    "x = 1002\n",
    "print(id(x))"
   ]
  },
  {
   "cell_type": "code",
   "execution_count": 42,
   "id": "32bf6664-63b0-4c7c-b30a-c90544131dd3",
   "metadata": {},
   "outputs": [
    {
     "data": {
      "text/plain": [
       "4460756352"
      ]
     },
     "execution_count": 42,
     "metadata": {},
     "output_type": "execute_result"
    }
   ],
   "source": [
    "x2 = [1,2,3]\n",
    "id(x2)\n",
    "x2[0] = \"string of text\"\n",
    "id(x2)"
   ]
  },
  {
   "cell_type": "code",
   "execution_count": 43,
   "id": "2c155e12-5256-451e-b867-0942210a081e",
   "metadata": {},
   "outputs": [
    {
     "data": {
      "text/plain": [
       "4460756352"
      ]
     },
     "execution_count": 43,
     "metadata": {},
     "output_type": "execute_result"
    }
   ],
   "source": [
    "y2 = x2\n",
    "id(y2)"
   ]
  },
  {
   "cell_type": "code",
   "execution_count": 44,
   "id": "b9ec1299-29b8-4b06-9f9a-03d61cdfc58e",
   "metadata": {},
   "outputs": [
    {
     "data": {
      "text/plain": [
       "['y_element', 2, 3]"
      ]
     },
     "execution_count": 44,
     "metadata": {},
     "output_type": "execute_result"
    }
   ],
   "source": [
    "y2[0] = \"y_element\"\n",
    "x2"
   ]
  },
  {
   "cell_type": "code",
   "execution_count": 45,
   "id": "336e6c8f-2082-4ef5-a136-26175805d9af",
   "metadata": {},
   "outputs": [
    {
     "data": {
      "text/plain": [
       "4460756352"
      ]
     },
     "execution_count": 45,
     "metadata": {},
     "output_type": "execute_result"
    }
   ],
   "source": [
    "import copy\n",
    "z2 = copy.copy(x2)\n",
    "id(z2)\n",
    "id(x2)"
   ]
  },
  {
   "cell_type": "code",
   "execution_count": 46,
   "id": "5fd45192-f4da-45b1-bcee-6ac82ee7d3ae",
   "metadata": {},
   "outputs": [
    {
     "data": {
      "text/plain": [
       "['y_element', 2, 3]"
      ]
     },
     "execution_count": 46,
     "metadata": {},
     "output_type": "execute_result"
    }
   ],
   "source": [
    "z2"
   ]
  },
  {
   "cell_type": "code",
   "execution_count": 47,
   "id": "4218528f-448f-4ec9-a7b3-30d53e30d1ac",
   "metadata": {},
   "outputs": [
    {
     "data": {
      "text/plain": [
       "['y_element', 2, 3]"
      ]
     },
     "execution_count": 47,
     "metadata": {},
     "output_type": "execute_result"
    }
   ],
   "source": [
    "x2"
   ]
  },
  {
   "cell_type": "code",
   "execution_count": 51,
   "id": "343f00e9-78fc-428b-8837-0bce7f88189d",
   "metadata": {},
   "outputs": [
    {
     "data": {
      "text/plain": [
       "[[1], [2], [3], [4], [5], [6], [7], [8], [9]]"
      ]
     },
     "execution_count": 51,
     "metadata": {},
     "output_type": "execute_result"
    }
   ],
   "source": [
    "two_d_list = [[1],[2],[3],[4],[5],[6],[7],[8],[9]]\n",
    "s = copy.copy(two_d_list)\n",
    "s"
   ]
  },
  {
   "cell_type": "code",
   "execution_count": 49,
   "id": "05329618-0cf9-4e8a-876c-aa1af3f9eb6a",
   "metadata": {},
   "outputs": [
    {
     "data": {
      "text/plain": [
       "4460714880"
      ]
     },
     "execution_count": 49,
     "metadata": {},
     "output_type": "execute_result"
    }
   ],
   "source": [
    "id(two_d_list)\n",
    "id(s)"
   ]
  },
  {
   "cell_type": "code",
   "execution_count": 52,
   "id": "4e07faf7-0b07-4d7e-9665-e635b9c6fb6c",
   "metadata": {},
   "outputs": [
    {
     "name": "stdout",
     "output_type": "stream",
     "text": [
      "[[10], [2], [3], [4], [5], [6], [7], [8], [9]]\n"
     ]
    }
   ],
   "source": [
    "s[0][0] = 10\n",
    "print(two_d_list)"
   ]
  },
  {
   "cell_type": "code",
   "execution_count": 53,
   "id": "146fcdc7-39bb-4855-90c3-47e85aa169e8",
   "metadata": {},
   "outputs": [
    {
     "data": {
      "text/plain": [
       "4460721920"
      ]
     },
     "execution_count": 53,
     "metadata": {},
     "output_type": "execute_result"
    }
   ],
   "source": [
    "id(two_d_list[0])\n",
    "id(s[0])"
   ]
  },
  {
   "cell_type": "code",
   "execution_count": 54,
   "id": "0e571cae-15dd-4005-b7e9-cd3abc3a6d14",
   "metadata": {},
   "outputs": [],
   "source": [
    "s2 = copy.deepcopy(two_d_list)"
   ]
  },
  {
   "cell_type": "code",
   "execution_count": 55,
   "id": "c41e439f-8a14-49dd-a8aa-90d7368bbcf4",
   "metadata": {},
   "outputs": [
    {
     "data": {
      "text/plain": [
       "(1, 2, 3)"
      ]
     },
     "execution_count": 55,
     "metadata": {},
     "output_type": "execute_result"
    }
   ],
   "source": [
    "x3 = (1,2,3)\n",
    "x3"
   ]
  },
  {
   "cell_type": "code",
   "execution_count": null,
   "id": "e6d51386-158c-46cf-8bf6-2a2cb235216f",
   "metadata": {},
   "outputs": [],
   "source": []
  }
 ],
 "metadata": {
  "kernelspec": {
   "display_name": "Python 3 (ipykernel)",
   "language": "python",
   "name": "python3"
  },
  "language_info": {
   "codemirror_mode": {
    "name": "ipython",
    "version": 3
   },
   "file_extension": ".py",
   "mimetype": "text/x-python",
   "name": "python",
   "nbconvert_exporter": "python",
   "pygments_lexer": "ipython3",
   "version": "3.11.5"
  }
 },
 "nbformat": 4,
 "nbformat_minor": 5
}
