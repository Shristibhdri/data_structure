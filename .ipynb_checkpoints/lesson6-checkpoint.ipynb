{
 "cells": [
  {
   "cell_type": "code",
   "execution_count": 1,
   "id": "abd784d4-3f42-4d74-aebf-fccf7d9366dd",
   "metadata": {},
   "outputs": [],
   "source": [
    "import time"
   ]
  },
  {
   "cell_type": "code",
   "execution_count": 2,
   "id": "968f371c-d038-433d-8112-7e6071ca62f6",
   "metadata": {},
   "outputs": [],
   "source": [
    "time_now = time.time()"
   ]
  },
  {
   "cell_type": "code",
   "execution_count": 3,
   "id": "634b14cc-3f2c-49ab-a578-9ce5f139306e",
   "metadata": {},
   "outputs": [
    {
     "data": {
      "text/plain": [
       "1710415030.477536"
      ]
     },
     "execution_count": 3,
     "metadata": {},
     "output_type": "execute_result"
    }
   ],
   "source": [
    "time_now"
   ]
  },
  {
   "cell_type": "code",
   "execution_count": 7,
   "id": "9ec2fe03-0ae4-4c88-a695-efc5b3708faa",
   "metadata": {},
   "outputs": [],
   "source": [
    "time_at_start = time.time()"
   ]
  },
  {
   "cell_type": "code",
   "execution_count": 8,
   "id": "ef8a3b39-536c-4413-a020-d35e1b625cda",
   "metadata": {},
   "outputs": [],
   "source": [
    "time_at_end = time.time()"
   ]
  },
  {
   "cell_type": "code",
   "execution_count": 10,
   "id": "9e281610-26f1-4c35-bb59-55f17cf2bced",
   "metadata": {},
   "outputs": [
    {
     "name": "stdout",
     "output_type": "stream",
     "text": [
      "2.53872013092041\n"
     ]
    }
   ],
   "source": [
    "print(time_at_end - time_at_start)"
   ]
  },
  {
   "cell_type": "code",
   "execution_count": null,
   "id": "d621a71a-646d-4e36-a638-d8216c7e25e3",
   "metadata": {},
   "outputs": [],
   "source": []
  }
 ],
 "metadata": {
  "kernelspec": {
   "display_name": "Python 3 (ipykernel)",
   "language": "python",
   "name": "python3"
  },
  "language_info": {
   "codemirror_mode": {
    "name": "ipython",
    "version": 3
   },
   "file_extension": ".py",
   "mimetype": "text/x-python",
   "name": "python",
   "nbconvert_exporter": "python",
   "pygments_lexer": "ipython3",
   "version": "3.11.5"
  }
 },
 "nbformat": 4,
 "nbformat_minor": 5
}
