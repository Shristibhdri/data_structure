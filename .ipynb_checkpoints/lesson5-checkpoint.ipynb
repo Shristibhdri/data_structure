{
 "cells": [
  {
   "cell_type": "code",
   "execution_count": 15,
   "id": "8df678ba-9132-49d3-9ea2-fcd64f948814",
   "metadata": {},
   "outputs": [],
   "source": [
    "#1\n",
    "def divide_numbers(a,b):\n",
    "    try:\n",
    "        result = a / b \n",
    "        print(f'result:{result}')\n",
    "    except ZeroDivisionError as e:\n",
    "        print(f'Error: {e}')\n",
    "        "
   ]
  },
  {
   "cell_type": "code",
   "execution_count": 13,
   "id": "1313d89f-3fa3-48a1-b8b4-f2639d233f24",
   "metadata": {},
   "outputs": [
    {
     "name": "stdout",
     "output_type": "stream",
     "text": [
      "result:1.0\n"
     ]
    }
   ],
   "source": [
    "divide_numbers(1,1)"
   ]
  },
  {
   "cell_type": "code",
   "execution_count": 16,
   "id": "0e621ba8-b40c-4781-8ffc-f002bdefdc04",
   "metadata": {},
   "outputs": [
    {
     "name": "stdout",
     "output_type": "stream",
     "text": [
      "Error: division by zero\n"
     ]
    }
   ],
   "source": [
    "divide_numbers(1,0)"
   ]
  },
  {
   "cell_type": "code",
   "execution_count": 10,
   "id": "94c53498-fa64-490d-afd0-7ed8924295e0",
   "metadata": {},
   "outputs": [],
   "source": [
    "#2\n",
    "def divide_numbers(a,b):\n",
    "    try:\n",
    "        result = a / b \n",
    "        print(f'result:{result}')\n",
    "    except ZeroDivisionError as e:\n",
    "        result = 1/ 0.0000001\n",
    "        print(f'Error: {e} happened, we recovered with 0.0000001 as b')\n",
    "        print(f'Error: {e}')\n",
    "    "
   ]
  },
  {
   "cell_type": "code",
   "execution_count": 11,
   "id": "2db745b7-93cc-4405-9d3b-f83f85b6d167",
   "metadata": {},
   "outputs": [
    {
     "name": "stdout",
     "output_type": "stream",
     "text": [
      "result:1.0\n"
     ]
    }
   ],
   "source": [
    "divide_numbers(1,1)"
   ]
  },
  {
   "cell_type": "code",
   "execution_count": 12,
   "id": "6eaf8aaf-9116-4faf-9ca8-cac16a36da5d",
   "metadata": {},
   "outputs": [
    {
     "name": "stdout",
     "output_type": "stream",
     "text": [
      "Error: division by zero happened, we recovered with 0.0000001 as b\n",
      "Error: division by zero\n"
     ]
    }
   ],
   "source": [
    "divide_numbers(1,0)"
   ]
  },
  {
   "cell_type": "code",
   "execution_count": 18,
   "id": "94941f1e-0b22-49c9-a553-4775ac07b745",
   "metadata": {},
   "outputs": [],
   "source": [
    "#3\n",
    "def divide_number2():\n",
    "    try:\n",
    "        numerator = float(input(\"enter the numerator\"))\n",
    "        denominator = float(input(\"enter the denominator\"))\n",
    "        \n",
    "        result = numerator / denominator\n",
    "    except ValueError: \n",
    "        print(\"Error: Please enter valid numeric values.\")\n",
    "    except ZeroDivisionError:\n",
    "        print(\"Error: division by zero is not allowed\")\n",
    "    else:\n",
    "        print(f'result of division: {result}')\n",
    "    finally:\n",
    "        print(\"Execution Cmpleted\")\n",
    "    "
   ]
  },
  {
   "cell_type": "code",
   "execution_count": 25,
   "id": "1396735b-48e5-45ca-9318-2804e05bcf44",
   "metadata": {},
   "outputs": [
    {
     "name": "stdin",
     "output_type": "stream",
     "text": [
      "enter the numerator 4\n",
      "enter the denominator 1\n"
     ]
    },
    {
     "name": "stdout",
     "output_type": "stream",
     "text": [
      "result of division: 4.0\n",
      "Execution Cmpleted\n"
     ]
    }
   ],
   "source": [
    "divide_number2()"
   ]
  },
  {
   "cell_type": "code",
   "execution_count": 26,
   "id": "4fa50bb6-f926-4694-905d-ec69d1ccfc11",
   "metadata": {},
   "outputs": [
    {
     "name": "stdin",
     "output_type": "stream",
     "text": [
      "enter the numerator 0\n",
      "enter the denominator 0\n"
     ]
    },
    {
     "name": "stdout",
     "output_type": "stream",
     "text": [
      "Error: division br zero is not allowed\n",
      "Execution Cmpleted\n"
     ]
    }
   ],
   "source": [
    "divide_number2()"
   ]
  },
  {
   "cell_type": "code",
   "execution_count": null,
   "id": "fa24f452-f066-4028-9c20-3669b176dc19",
   "metadata": {},
   "outputs": [
    {
     "name": "stdin",
     "output_type": "stream",
     "text": [
      "Enter the numerator:  \n"
     ]
    },
    {
     "name": "stdout",
     "output_type": "stream",
     "text": [
      "Error: Please enter valid numeric values.\n",
      "Execution Completed\n",
      "\n"
     ]
    }
   ],
   "source": [
    "#4\n",
    "def divide_number2():\n",
    "    try:\n",
    "        numerator = float(input(\"enter the numerator\"))\n",
    "        denominator = float(input(\"enter the denominator\"))\n",
    "        \n",
    "        result = numerator / denominator\n",
    "    except ValueError: \n",
    "        print(\"Error: Please enter valid numeric values.\")\n",
    "        divide_number2()\n",
    "    except ZeroDivisionError:\n",
    "        print(\"Error: division by zero is not allowed\")\n",
    "    else:\n",
    "        print(f'result of division: {result}')\n",
    "    finally:\n",
    "        print(\"Execution Completed\")\n"
   ]
  },
  {
   "cell_type": "code",
   "execution_count": null,
   "id": "9a3ba9ec-a186-4ed2-a4f2-e86818298983",
   "metadata": {},
   "outputs": [],
   "source": []
  }
 ],
 "metadata": {
  "kernelspec": {
   "display_name": "Python 3 (ipykernel)",
   "language": "python",
   "name": "python3"
  },
  "language_info": {
   "codemirror_mode": {
    "name": "ipython",
    "version": 3
   },
   "file_extension": ".py",
   "mimetype": "text/x-python",
   "name": "python",
   "nbconvert_exporter": "python",
   "pygments_lexer": "ipython3",
   "version": "3.11.5"
  }
 },
 "nbformat": 4,
 "nbformat_minor": 5
}
