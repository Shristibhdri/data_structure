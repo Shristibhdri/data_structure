{
 "cells": [
  {
   "cell_type": "code",
   "execution_count": 1,
   "id": "b405306e-1a54-4e35-b145-8b99dd9da589",
   "metadata": {},
   "outputs": [],
   "source": [
    "def numbers_for_ever():\n",
    "    next_number = 0\n",
    "    while True:\n",
    "        yield next_number\n",
    "        next_number += 1\n",
    "    "
   ]
  },
  {
   "cell_type": "code",
   "execution_count": 2,
   "id": "9b4ca140-2396-4f66-966c-0af4e3bf4e79",
   "metadata": {},
   "outputs": [
    {
     "name": "stdout",
     "output_type": "stream",
     "text": [
      "<generator object numbers_for_ever at 0x10bc76080>\n"
     ]
    }
   ],
   "source": [
    "print(numbers_for_ever())"
   ]
  },
  {
   "cell_type": "code",
   "execution_count": 4,
   "id": "e167feab-8276-444e-9702-17056c31016c",
   "metadata": {},
   "outputs": [],
   "source": [
    "numbers_generator = numbers_for_ever()"
   ]
  },
  {
   "cell_type": "code",
   "execution_count": 5,
   "id": "8a248833-33f4-45c5-a490-644a4cff9dea",
   "metadata": {},
   "outputs": [
    {
     "name": "stdout",
     "output_type": "stream",
     "text": [
      "<generator object numbers_for_ever at 0x10bd3d600>\n"
     ]
    }
   ],
   "source": [
    "print(numbers_generator)"
   ]
  },
  {
   "cell_type": "code",
   "execution_count": 6,
   "id": "fdecb39a-ad75-46c5-94cb-d7be12c6d34e",
   "metadata": {},
   "outputs": [
    {
     "data": {
      "text/plain": [
       "0"
      ]
     },
     "execution_count": 6,
     "metadata": {},
     "output_type": "execute_result"
    }
   ],
   "source": [
    "next(numbers_generator)"
   ]
  },
  {
   "cell_type": "code",
   "execution_count": 7,
   "id": "d10d0276-a30d-41fe-a479-e3a460d92f81",
   "metadata": {},
   "outputs": [
    {
     "data": {
      "text/plain": [
       "1"
      ]
     },
     "execution_count": 7,
     "metadata": {},
     "output_type": "execute_result"
    }
   ],
   "source": [
    "next(numbers_generator)"
   ]
  },
  {
   "cell_type": "code",
   "execution_count": 8,
   "id": "cfa28ed6-fcc3-488b-b504-989cd8fe629d",
   "metadata": {},
   "outputs": [
    {
     "data": {
      "text/plain": [
       "2"
      ]
     },
     "execution_count": 8,
     "metadata": {},
     "output_type": "execute_result"
    }
   ],
   "source": [
    "next(numbers_generator)"
   ]
  },
  {
   "cell_type": "code",
   "execution_count": null,
   "id": "8596e7b8-9215-46d1-9003-30963cad9a82",
   "metadata": {},
   "outputs": [],
   "source": [
    "def yields_something_for_limited_times():\n",
    "    yield \"first string\"\n",
    "    yield \"second string\"\n",
    "    yield \"third string\"\n",
    "    yield \"forth string\""
   ]
  },
  {
   "cell_type": "code",
   "execution_count": null,
   "id": "8a72b0bb-8270-4759-8231-09c4e676b83e",
   "metadata": {},
   "outputs": [],
   "source": [
    "yields_something_for_times()"
   ]
  },
  {
   "cell_type": "code",
   "execution_count": null,
   "id": "d84e7643-d4a7-4325-bc5c-fe338e226ea8",
   "metadata": {},
   "outputs": [],
   "source": []
  }
 ],
 "metadata": {
  "kernelspec": {
   "display_name": "Python 3 (ipykernel)",
   "language": "python",
   "name": "python3"
  },
  "language_info": {
   "codemirror_mode": {
    "name": "ipython",
    "version": 3
   },
   "file_extension": ".py",
   "mimetype": "text/x-python",
   "name": "python",
   "nbconvert_exporter": "python",
   "pygments_lexer": "ipython3",
   "version": "3.11.5"
  }
 },
 "nbformat": 4,
 "nbformat_minor": 5
}
