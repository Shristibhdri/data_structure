{
 "cells": [
  {
   "cell_type": "code",
   "execution_count": 1,
   "id": "f65aa1d3-be84-4a95-aaa1-fc481850a1ce",
   "metadata": {},
   "outputs": [],
   "source": [
    "import numpy as np"
   ]
  },
  {
   "cell_type": "code",
   "execution_count": 8,
   "id": "2403ced1-9bec-459f-8941-ae5981dc3d3b",
   "metadata": {},
   "outputs": [
    {
     "name": "stdout",
     "output_type": "stream",
     "text": [
      "[1]\n"
     ]
    }
   ],
   "source": [
    "x = np.array([1,])\n",
    "x[0] = 1\n",
    "print(x)"
   ]
  },
  {
   "cell_type": "code",
   "execution_count": 13,
   "id": "37780213-0d65-495f-9f70-96def46a2c38",
   "metadata": {},
   "outputs": [
    {
     "name": "stdout",
     "output_type": "stream",
     "text": [
      "[400]\n"
     ]
    }
   ],
   "source": [
    "x[0] = 14\n",
    "x[0] = 400\n",
    "print(x)"
   ]
  },
  {
   "cell_type": "code",
   "execution_count": 1,
   "id": "1356ca33-de2b-426a-af75-aa4543e4095b",
   "metadata": {},
   "outputs": [
    {
     "name": "stdout",
     "output_type": "stream",
     "text": [
      "42\n"
     ]
    }
   ],
   "source": [
    "base2 = \"101010\"  # Example binary number\n",
    "\n",
    "base10 = int(base2, 2)\n",
    "\n",
    "print(base10)\n"
   ]
  },
  {
   "cell_type": "code",
   "execution_count": null,
   "id": "059168cd-eacc-4b2c-8b52-7630ece70f1c",
   "metadata": {},
   "outputs": [],
   "source": [
    "8 bit = 0000 0000 = 0\n",
    "1111 1111 = ...3+2^1+2^0 = +1"
   ]
  },
  {
   "cell_type": "code",
   "execution_count": 14,
   "id": "19cc52a3-c33a-48ea-bb9d-7dc366f2e27c",
   "metadata": {},
   "outputs": [
    {
     "ename": "AttributeError",
     "evalue": "module 'numpy' has no attribute 'unit16'",
     "output_type": "error",
     "traceback": [
      "\u001b[0;31m---------------------------------------------------------------------------\u001b[0m",
      "\u001b[0;31mAttributeError\u001b[0m                            Traceback (most recent call last)",
      "Cell \u001b[0;32mIn[14], line 1\u001b[0m\n\u001b[0;32m----> 1\u001b[0m y \u001b[38;5;241m=\u001b[39m np\u001b[38;5;241m.\u001b[39marray([\u001b[38;5;241m1\u001b[39m,], dtype\u001b[38;5;241m=\u001b[39m\u001b[43mnp\u001b[49m\u001b[38;5;241;43m.\u001b[39;49m\u001b[43munit16\u001b[49m)\n\u001b[1;32m      2\u001b[0m y[\u001b[38;5;241m0\u001b[39m]\u001b[38;5;241m=\u001b[39m \u001b[38;5;241m400\u001b[39m\n\u001b[1;32m      3\u001b[0m \u001b[38;5;28mprint\u001b[39m(y)\n",
      "File \u001b[0;32m~/Library/Python/3.11/lib/python/site-packages/numpy/__init__.py:328\u001b[0m, in \u001b[0;36m__getattr__\u001b[0;34m(attr)\u001b[0m\n\u001b[1;32m    325\u001b[0m     \u001b[38;5;124m\"\u001b[39m\u001b[38;5;124mRemoved in NumPy 1.25.0\u001b[39m\u001b[38;5;124m\"\u001b[39m\n\u001b[1;32m    326\u001b[0m     \u001b[38;5;28;01mraise\u001b[39;00m \u001b[38;5;167;01mRuntimeError\u001b[39;00m(\u001b[38;5;124m\"\u001b[39m\u001b[38;5;124mTester was removed in NumPy 1.25.\u001b[39m\u001b[38;5;124m\"\u001b[39m)\n\u001b[0;32m--> 328\u001b[0m \u001b[38;5;28;01mraise\u001b[39;00m \u001b[38;5;167;01mAttributeError\u001b[39;00m(\u001b[38;5;124m\"\u001b[39m\u001b[38;5;124mmodule \u001b[39m\u001b[38;5;132;01m{!r}\u001b[39;00m\u001b[38;5;124m has no attribute \u001b[39m\u001b[38;5;124m\"\u001b[39m\n\u001b[1;32m    329\u001b[0m                      \u001b[38;5;124m\"\u001b[39m\u001b[38;5;132;01m{!r}\u001b[39;00m\u001b[38;5;124m\"\u001b[39m\u001b[38;5;241m.\u001b[39mformat(\u001b[38;5;18m__name__\u001b[39m, attr))\n",
      "\u001b[0;31mAttributeError\u001b[0m: module 'numpy' has no attribute 'unit16'"
     ]
    }
   ],
   "source": [
    "y = np.array([1,], dtype=np.unit16)\n",
    "y[0]= 400\n",
    "print(y)"
   ]
  },
  {
   "cell_type": "code",
   "execution_count": 15,
   "id": "523116fb-8415-47cc-958c-cb03f3b51aa5",
   "metadata": {},
   "outputs": [
    {
     "ename": "NameError",
     "evalue": "name 'y' is not defined",
     "output_type": "error",
     "traceback": [
      "\u001b[0;31m---------------------------------------------------------------------------\u001b[0m",
      "\u001b[0;31mNameError\u001b[0m                                 Traceback (most recent call last)",
      "Cell \u001b[0;32mIn[15], line 1\u001b[0m\n\u001b[0;32m----> 1\u001b[0m \u001b[43my\u001b[49m[\u001b[38;5;241m0\u001b[39m] \u001b[38;5;241m=\u001b[39m \u001b[38;5;241m-\u001b[39m\u001b[38;5;241m400\u001b[39m\n\u001b[1;32m      2\u001b[0m \u001b[38;5;28mprint\u001b[39m(y)\n",
      "\u001b[0;31mNameError\u001b[0m: name 'y' is not defined"
     ]
    }
   ],
   "source": [
    "y[0] = -400\n",
    "print(y)"
   ]
  },
  {
   "cell_type": "code",
   "execution_count": 19,
   "id": "ce1e2811-e2b2-4b44-be3b-64ddac9a6dc8",
   "metadata": {},
   "outputs": [
    {
     "data": {
      "text/plain": [
       "'siru'"
      ]
     },
     "execution_count": 19,
     "metadata": {},
     "output_type": "execute_result"
    }
   ],
   "source": [
    "first_dict = {'name': 'siru' , 'age' : 20, 'is a live': True}\n",
    "first_dict['name']"
   ]
  },
  {
   "cell_type": "code",
   "execution_count": null,
   "id": "44d50560-230a-43f9-a56c-7f9c30d9933c",
   "metadata": {},
   "outputs": [],
   "source": [
    "first_dict['name'] = 'john'"
   ]
  },
  {
   "cell_type": "code",
   "execution_count": 22,
   "id": "bb222195-99fb-409e-8cfa-39d91dff72f6",
   "metadata": {},
   "outputs": [
    {
     "data": {
      "text/plain": [
       "{'name': 'siru', 'age': 20, 'is a live': True}"
      ]
     },
     "execution_count": 22,
     "metadata": {},
     "output_type": "execute_result"
    }
   ],
   "source": [
    "first_dict.update({'name':'siru'})\n",
    "first_dict"
   ]
  },
  {
   "cell_type": "code",
   "execution_count": 23,
   "id": "d34634d5-2a53-402f-abff-a30688c9a964",
   "metadata": {},
   "outputs": [
    {
     "data": {
      "text/plain": [
       "{'name': {10: 'a', 12: 'f'}, 'age': 20, 'is a live': True}"
      ]
     },
     "execution_count": 23,
     "metadata": {},
     "output_type": "execute_result"
    }
   ],
   "source": [
    "first_dict['name'] = {10:'a',12:'f'}\n",
    "first_dict"
   ]
  },
  {
   "cell_type": "code",
   "execution_count": 24,
   "id": "a7385e28-aa9f-4b13-9049-27f1d3e6c4c2",
   "metadata": {},
   "outputs": [
    {
     "name": "stdout",
     "output_type": "stream",
     "text": [
      "(1, 'value1')\n",
      "<class 'tuple'>\n",
      "(2, 'value2')\n",
      "<class 'tuple'>\n",
      "(3, 'value3')\n",
      "<class 'tuple'>\n"
     ]
    }
   ],
   "source": [
    "some_dict = {1:'value3', 2:'value2', 3:'value3', 1:'value1'}\n",
    "for item in some_dict.items():\n",
    "    print(item)\n",
    "    print(type(item))"
   ]
  },
  {
   "cell_type": "code",
   "execution_count": 25,
   "id": "7300ce02-2c4f-40b4-a8cb-f50271a334a9",
   "metadata": {},
   "outputs": [
    {
     "name": "stdout",
     "output_type": "stream",
     "text": [
      "key is 1, and value is value1\n",
      "key is 2, and value is value2\n",
      "key is 3, and value is value3\n"
     ]
    }
   ],
   "source": [
    "for key, value in some_dict.items():\n",
    "    print(f\"key is {key}, and value is {value}\")"
   ]
  },
  {
   "cell_type": "code",
   "execution_count": 26,
   "id": "e40c60fc-a394-458d-aac4-0bf7d1837714",
   "metadata": {},
   "outputs": [
    {
     "name": "stdout",
     "output_type": "stream",
     "text": [
      "dict_items([(1, 'value1'), (2, 'value2'), (3, 'value3')])\n",
      "<class 'dict_items'>\n"
     ]
    }
   ],
   "source": [
    "print(some_dict.items())\n",
    "print(type(some_dict.items()))"
   ]
  },
  {
   "cell_type": "code",
   "execution_count": 27,
   "id": "a86e0659-2835-4f68-bf53-985ac2a15ac3",
   "metadata": {},
   "outputs": [
    {
     "name": "stdout",
     "output_type": "stream",
     "text": [
      "1\n",
      "<class 'int'>\n",
      "2\n",
      "<class 'int'>\n",
      "3\n",
      "<class 'int'>\n"
     ]
    }
   ],
   "source": [
    "for i in some_dict:\n",
    "    print(i)\n",
    "    print(type(i))"
   ]
  },
  {
   "cell_type": "code",
   "execution_count": 28,
   "id": "81809e79-be4b-4e16-9419-7dfb08a680e5",
   "metadata": {},
   "outputs": [
    {
     "name": "stdout",
     "output_type": "stream",
     "text": [
      "value1\n",
      "<class 'str'>\n",
      "value2\n",
      "<class 'str'>\n",
      "value3\n",
      "<class 'str'>\n"
     ]
    }
   ],
   "source": [
    "for i, j in some_dict.items():\n",
    "    print(j)\n",
    "    print(type(j))"
   ]
  },
  {
   "cell_type": "code",
   "execution_count": 29,
   "id": "904c52fa-982b-4b73-bad9-ec858ad80755",
   "metadata": {},
   "outputs": [
    {
     "name": "stdout",
     "output_type": "stream",
     "text": [
      "value1\n",
      "<class 'str'>\n",
      "value2\n",
      "<class 'str'>\n",
      "value3\n",
      "<class 'str'>\n"
     ]
    }
   ],
   "source": [
    "for j in some_dict.values():\n",
    "    print(j)\n",
    "    print(type(j))"
   ]
  },
  {
   "cell_type": "code",
   "execution_count": 30,
   "id": "d18f1201-9c39-44b2-a903-9137d9d07e8f",
   "metadata": {},
   "outputs": [
    {
     "name": "stdout",
     "output_type": "stream",
     "text": [
      "1\n",
      "<class 'int'>\n",
      "2\n",
      "<class 'int'>\n",
      "3\n",
      "<class 'int'>\n"
     ]
    }
   ],
   "source": [
    "for j in some_dict.keys():\n",
    "    print(j)\n",
    "    print(type(j))"
   ]
  },
  {
   "cell_type": "code",
   "execution_count": 31,
   "id": "b4d5bcf5-1992-4610-97d7-12ada91458ff",
   "metadata": {},
   "outputs": [
    {
     "ename": "ValueError",
     "evalue": "too many values to unpack (expected 2)",
     "output_type": "error",
     "traceback": [
      "\u001b[0;31m---------------------------------------------------------------------------\u001b[0m",
      "\u001b[0;31mValueError\u001b[0m                                Traceback (most recent call last)",
      "Cell \u001b[0;32mIn[31], line 1\u001b[0m\n\u001b[0;32m----> 1\u001b[0m \u001b[38;5;28;01mfor\u001b[39;00m i, j \u001b[38;5;129;01min\u001b[39;00m (some_dict\u001b[38;5;241m.\u001b[39mkeys(), some_dict\u001b[38;5;241m.\u001b[39mvalues()):\n\u001b[1;32m      2\u001b[0m     \u001b[38;5;28mprint\u001b[39m((i,j))\n\u001b[1;32m      3\u001b[0m     \u001b[38;5;28mprint\u001b[39m(\u001b[38;5;28mtype\u001b[39m(j))\n",
      "\u001b[0;31mValueError\u001b[0m: too many values to unpack (expected 2)"
     ]
    }
   ],
   "source": [
    "for i, j in (some_dict.keys(), some_dict.values()):\n",
    "    print((i,j))\n",
    "    print(type(j))"
   ]
  },
  {
   "cell_type": "code",
   "execution_count": 32,
   "id": "a9d2d82f-d3e4-41cd-82ab-257f6951da5b",
   "metadata": {},
   "outputs": [
    {
     "name": "stdout",
     "output_type": "stream",
     "text": [
      "dict_values(['value1', 'value2', 'value3'])\n"
     ]
    }
   ],
   "source": [
    "values = some_dict.values()\n",
    "print(values)"
   ]
  },
  {
   "cell_type": "code",
   "execution_count": 33,
   "id": "0fcf9acc-5366-448f-a256-8635d2338bbe",
   "metadata": {},
   "outputs": [
    {
     "data": {
      "text/plain": [
       "'value1'"
      ]
     },
     "execution_count": 33,
     "metadata": {},
     "output_type": "execute_result"
    }
   ],
   "source": [
    "values_list = list(values)\n",
    "values_list[0]"
   ]
  },
  {
   "cell_type": "code",
   "execution_count": 34,
   "id": "d637d644-fd15-4ab3-beb6-d8059a153d58",
   "metadata": {},
   "outputs": [
    {
     "name": "stdout",
     "output_type": "stream",
     "text": [
      "True\n"
     ]
    }
   ],
   "source": [
    "print(\"value1\" in values)"
   ]
  },
  {
   "cell_type": "code",
   "execution_count": 35,
   "id": "f65d2f3c-f577-4eab-a4ab-2bd757d519c7",
   "metadata": {},
   "outputs": [],
   "source": [
    "c = np.array([1,], dtype=np.int8)\n",
    "c[0] = -1"
   ]
  },
  {
   "cell_type": "code",
   "execution_count": null,
   "id": "f0eb2fef-1605-454b-b161-cb1d6cb79e44",
   "metadata": {},
   "outputs": [],
   "source": []
  }
 ],
 "metadata": {
  "kernelspec": {
   "display_name": "Python 3 (ipykernel)",
   "language": "python",
   "name": "python3"
  },
  "language_info": {
   "codemirror_mode": {
    "name": "ipython",
    "version": 3
   },
   "file_extension": ".py",
   "mimetype": "text/x-python",
   "name": "python",
   "nbconvert_exporter": "python",
   "pygments_lexer": "ipython3",
   "version": "3.11.5"
  }
 },
 "nbformat": 4,
 "nbformat_minor": 5
}
