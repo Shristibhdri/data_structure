{
 "cells": [
  {
   "cell_type": "code",
   "execution_count": 1,
   "metadata": {},
   "outputs": [],
   "source": [
    "class Animal:\n",
    "    def speak(self):\n",
    "        print(\"animal speaks\")"
   ]
  },
  {
   "cell_type": "code",
   "execution_count": 2,
   "metadata": {},
   "outputs": [],
   "source": [
    "class Dog(Animal):\n",
    "    def bark(self):\n",
    "        print(\"animal bark\")"
   ]
  },
  {
   "cell_type": "code",
   "execution_count": 4,
   "metadata": {},
   "outputs": [
    {
     "name": "stdout",
     "output_type": "stream",
     "text": [
      "animal speaks\n",
      "animal bark\n"
     ]
    }
   ],
   "source": [
    "dog = Dog()\n",
    "dog.speak()\n",
    "dog.bark()"
   ]
  },
  {
   "cell_type": "code",
   "execution_count": 9,
   "metadata": {},
   "outputs": [],
   "source": [
    "class LandAnimal:\n",
    "    def walk(self):\n",
    "        print(\"Animal walks on land\")\n",
    "class AquiticAnimal:\n",
    "    def swim(self):\n",
    "        print(\"Animal swims in water\")\n",
    "class Amohibian(LandAnimal, AquiticAnimal):\n",
    "    pass"
   ]
  },
  {
   "cell_type": "code",
   "execution_count": 10,
   "metadata": {},
   "outputs": [
    {
     "name": "stdout",
     "output_type": "stream",
     "text": [
      "Animal walks on land\n",
      "Animal swims in water\n"
     ]
    }
   ],
   "source": [
    "amphibian = Amohibian()\n",
    "amphibian.walk()\n",
    "amphibian.swim()"
   ]
  },
  {
   "cell_type": "code",
   "execution_count": 12,
   "metadata": {},
   "outputs": [],
   "source": [
    "class LandAnimal:\n",
    "    def walk(self):\n",
    "        print(\"Animal walks on land\")\n",
    "class AquiticAnimal:\n",
    "    def movement(self):\n",
    "        print(\"Animal swims in water\")\n",
    "class Amohibian(LandAnimal, AquiticAnimal):\n",
    "    pass"
   ]
  },
  {
   "cell_type": "code",
   "execution_count": 13,
   "metadata": {},
   "outputs": [
    {
     "name": "stdout",
     "output_type": "stream",
     "text": [
      "Animal swims in water\n"
     ]
    }
   ],
   "source": [
    "amphibian = Amohibian()\n",
    "amphibian.movement()"
   ]
  },
  {
   "cell_type": "code",
   "execution_count": null,
   "metadata": {},
   "outputs": [],
   "source": [
    "class LandAnimal:\n",
    "    def walk(self):\n",
    "        print(\"Animal walks on land\")\n",
    "class AquiticAnimal:\n",
    "    def movement(self):\n",
    "        print(\"Animal swims in water\")\n",
    "class Amohibian(LandAnimal, AquiticAnimal):\n",
    "    pass"
   ]
  },
  {
   "cell_type": "code",
   "execution_count": 24,
   "metadata": {},
   "outputs": [],
   "source": [
    "class AirAnimal():\n",
    "    def movement(self):\n",
    "        print(\"Animal flies in the air\")\n",
    "        "
   ]
  },
  {
   "cell_type": "code",
   "execution_count": 25,
   "metadata": {},
   "outputs": [
    {
     "name": "stdout",
     "output_type": "stream",
     "text": [
      "Animal flies in the air\n"
     ]
    }
   ],
   "source": [
    "bird = AirAnimal()\n",
    "bird.movement()"
   ]
  },
  {
   "cell_type": "code",
   "execution_count": 22,
   "metadata": {},
   "outputs": [],
   "source": [
    "class Animal():\n",
    "    def sound(self):\n",
    "        print(\"Animal makes a sound\")\n",
    "class Dog(Animal):\n",
    "    def bark(self):\n",
    "        print(\"dog barks\")\n",
    "class Puppy(Dog):\n",
    "    def play(self):\n",
    "        print(\"puppy playes\")"
   ]
  },
  {
   "cell_type": "code",
   "execution_count": 23,
   "metadata": {},
   "outputs": [
    {
     "name": "stdout",
     "output_type": "stream",
     "text": [
      "Animal makes a sound\n",
      "dog barks\n",
      "puppy playes\n"
     ]
    }
   ],
   "source": [
    "puppy = Puppy()\n",
    "puppy.sound()\n",
    "puppy.bark()\n",
    "puppy.play()"
   ]
  },
  {
   "cell_type": "code",
   "execution_count": null,
   "metadata": {},
   "outputs": [],
   "source": []
  }
 ],
 "metadata": {
  "kernelspec": {
   "display_name": "Python 3",
   "language": "python",
   "name": "python3"
  },
  "language_info": {
   "codemirror_mode": {
    "name": "ipython",
    "version": 3
   },
   "file_extension": ".py",
   "mimetype": "text/x-python",
   "name": "python",
   "nbconvert_exporter": "python",
   "pygments_lexer": "ipython3",
   "version": "3.11.5"
  }
 },
 "nbformat": 4,
 "nbformat_minor": 2
}
